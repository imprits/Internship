{
 "cells": [
  {
   "cell_type": "markdown",
   "id": "1b693907",
   "metadata": {},
   "source": [
    "#### 9. Write a program to extract at least 500 Comments, Comment upvote and time when comment was posted from any YouTube Video."
   ]
  },
  {
   "cell_type": "code",
   "execution_count": 2,
   "id": "9a2421d6",
   "metadata": {},
   "outputs": [],
   "source": [
    "# Importing libraries\n",
    "import pandas as pd\n",
    "import selenium\n",
    "import time\n",
    "from bs4 import BeautifulSoup \n",
    "from selenium import webdriver\n",
    "from selenium.webdriver.common.by import By\n",
    "\n",
    "from selenium.common.exceptions import StaleElementReferenceException, NoSuchElementException\n",
    "import requests\n",
    "import re"
   ]
  },
  {
   "cell_type": "code",
   "execution_count": 13,
   "id": "44ff338c",
   "metadata": {},
   "outputs": [
    {
     "name": "stderr",
     "output_type": "stream",
     "text": [
      "C:\\Users\\prita\\AppData\\Local\\Temp\\ipykernel_13668\\3812804008.py:1: DeprecationWarning: executable_path has been deprecated, please pass in a Service object\n",
      "  driver=webdriver.Chrome('chromedriver.exe')\n"
     ]
    }
   ],
   "source": [
    "driver=webdriver.Chrome('chromedriver.exe')\n",
    "driver.maximize_window()"
   ]
  },
  {
   "cell_type": "code",
   "execution_count": 14,
   "id": "9503928c",
   "metadata": {},
   "outputs": [],
   "source": [
    "# Opening the youtube.com\n",
    "url = \"https://www.youtube.com/\"\n",
    "driver.get(url)\n",
    "time.sleep(2)"
   ]
  },
  {
   "cell_type": "code",
   "execution_count": 16,
   "id": "6277230c",
   "metadata": {},
   "outputs": [],
   "source": [
    "search_bar = driver.find_element(By.XPATH,\"/html/body/ytd-app/div[1]/div/ytd-masthead/div[3]/div[2]/ytd-searchbox/form/div[1]/div[1]/input\")\n",
    "search_bar\n",
    "search_bar.send_keys(\"Money Heist\")"
   ]
  },
  {
   "cell_type": "code",
   "execution_count": 17,
   "id": "d326f47f",
   "metadata": {},
   "outputs": [],
   "source": [
    "search_btn = driver.find_element(By.ID,\"search-icon-legacy\")  \n",
    "search_btn.click()\n",
    "time.sleep(1)"
   ]
  },
  {
   "cell_type": "code",
   "execution_count": 18,
   "id": "0b833ebe",
   "metadata": {},
   "outputs": [],
   "source": [
    "#Clicking on first video\n",
    "video = driver.find_element(By.XPATH,\"//yt-formatted-string[@class ='style-scope ytd-video-renderer']\")\n",
    "video.click()"
   ]
  },
  {
   "cell_type": "code",
   "execution_count": 19,
   "id": "ee694676",
   "metadata": {},
   "outputs": [],
   "source": [
    "# 1000 time we scroll down by 10000 in order to generate more Comments\n",
    "for _ in range(20000):\n",
    "    driver.execute_script(\"window.scrollBy(0,20000)\")\n",
    "time.sleep(2)"
   ]
  },
  {
   "cell_type": "code",
   "execution_count": 20,
   "id": "b07cea50",
   "metadata": {},
   "outputs": [],
   "source": [
    "#Creating empty lists\n",
    "\n",
    "comments = []\n",
    "comment_time = []\n",
    "Time = []\n",
    "Likes = []\n",
    "No_of_Likes = []\n",
    "\n",
    "#scrape comments\n",
    "cm = driver.find_elements(By.ID,\"content-text\")\n",
    "for i in cm:\n",
    "    if (len(comments)<500):\n",
    "        if i.text is None:\n",
    "            comments.append(\"--\")\n",
    "        else:\n",
    "            comments.append(i.text)\n",
    "time.sleep(2)\n",
    "\n",
    "# scrape time when comment was posted\n",
    "tm = driver.find_elements(By.XPATH,\"//a[contains(text(),'ago')]\")\n",
    "for i in tm:\n",
    "    if (len(Time)<500):\n",
    "        Time.append(i.text)\n",
    "\n",
    "for i in range(0,len(Time)):\n",
    "    comment_time.append(Time[i])\n",
    "time.sleep(5)\n",
    "    \n",
    "# scrape the comment likes\n",
    "like = driver.find_elements(By.XPATH,'//span[@class=\"style-scope ytd-comment-action-buttons-renderer\"]')\n",
    "for i in like:\n",
    "    if (len(Likes)<1000):\n",
    "        if i.text is None:\n",
    "            Likes.append(\"--\")\n",
    "        else:\n",
    "        \n",
    "            Likes.append(i.text)\n",
    "Likes=Likes[1::2]    \n",
    "#for i in range(1,len(Likes)):\n",
    "    #No_of_Likes.append(Likes[i])"
   ]
  },
  {
   "cell_type": "code",
   "execution_count": 21,
   "id": "813ee7fa",
   "metadata": {},
   "outputs": [
    {
     "name": "stdout",
     "output_type": "stream",
     "text": [
      "500 500 500\n"
     ]
    }
   ],
   "source": [
    "print(len(comments),len(comment_time),len(Likes))"
   ]
  },
  {
   "cell_type": "code",
   "execution_count": 22,
   "id": "4326e64d",
   "metadata": {},
   "outputs": [
    {
     "data": {
      "text/html": [
       "<div>\n",
       "<style scoped>\n",
       "    .dataframe tbody tr th:only-of-type {\n",
       "        vertical-align: middle;\n",
       "    }\n",
       "\n",
       "    .dataframe tbody tr th {\n",
       "        vertical-align: top;\n",
       "    }\n",
       "\n",
       "    .dataframe thead th {\n",
       "        text-align: right;\n",
       "    }\n",
       "</style>\n",
       "<table border=\"1\" class=\"dataframe\">\n",
       "  <thead>\n",
       "    <tr style=\"text-align: right;\">\n",
       "      <th></th>\n",
       "      <th>Comments</th>\n",
       "      <th>Comment_time</th>\n",
       "      <th>Comment upvotes</th>\n",
       "    </tr>\n",
       "  </thead>\n",
       "  <tbody>\n",
       "    <tr>\n",
       "      <th>0</th>\n",
       "      <td>Money Heist is definitely one of the shows I h...</td>\n",
       "      <td>7 months ago</td>\n",
       "      <td>3.2K</td>\n",
       "    </tr>\n",
       "    <tr>\n",
       "      <th>1</th>\n",
       "      <td>What a masterpiece. I just have finished to wa...</td>\n",
       "      <td>7 months ago (edited)</td>\n",
       "      <td>1K</td>\n",
       "    </tr>\n",
       "    <tr>\n",
       "      <th>2</th>\n",
       "      <td>Can't explain the emotions this trailer evoked...</td>\n",
       "      <td>7 months ago</td>\n",
       "      <td>440</td>\n",
       "    </tr>\n",
       "    <tr>\n",
       "      <th>3</th>\n",
       "      <td>We need more series like this one....this seri...</td>\n",
       "      <td>7 months ago</td>\n",
       "      <td>375</td>\n",
       "    </tr>\n",
       "    <tr>\n",
       "      <th>4</th>\n",
       "      <td>“Don’t be sad because it’s over, be happy beca...</td>\n",
       "      <td>7 months ago</td>\n",
       "      <td>260</td>\n",
       "    </tr>\n",
       "    <tr>\n",
       "      <th>...</th>\n",
       "      <td>...</td>\n",
       "      <td>...</td>\n",
       "      <td>...</td>\n",
       "    </tr>\n",
       "    <tr>\n",
       "      <th>495</th>\n",
       "      <td>The one and only Lacasa De Papel</td>\n",
       "      <td>7 months ago</td>\n",
       "      <td>1</td>\n",
       "    </tr>\n",
       "    <tr>\n",
       "      <th>496</th>\n",
       "      <td>Guys i have not seen it. Should i start watchi...</td>\n",
       "      <td>7 months ago</td>\n",
       "      <td>3</td>\n",
       "    </tr>\n",
       "    <tr>\n",
       "      <th>497</th>\n",
       "      <td>Money heist is not a series  its emotion</td>\n",
       "      <td>7 months ago</td>\n",
       "      <td></td>\n",
       "    </tr>\n",
       "    <tr>\n",
       "      <th>498</th>\n",
       "      <td>Heist is finally completed ️‍</td>\n",
       "      <td>7 months ago</td>\n",
       "      <td></td>\n",
       "    </tr>\n",
       "    <tr>\n",
       "      <th>499</th>\n",
       "      <td>I wish i was like Berlin. What a great acting....</td>\n",
       "      <td>7 months ago</td>\n",
       "      <td></td>\n",
       "    </tr>\n",
       "  </tbody>\n",
       "</table>\n",
       "<p>500 rows × 3 columns</p>\n",
       "</div>"
      ],
      "text/plain": [
       "                                              Comments           Comment_time  \\\n",
       "0    Money Heist is definitely one of the shows I h...           7 months ago   \n",
       "1    What a masterpiece. I just have finished to wa...  7 months ago (edited)   \n",
       "2    Can't explain the emotions this trailer evoked...           7 months ago   \n",
       "3    We need more series like this one....this seri...           7 months ago   \n",
       "4    “Don’t be sad because it’s over, be happy beca...           7 months ago   \n",
       "..                                                 ...                    ...   \n",
       "495                   The one and only Lacasa De Papel           7 months ago   \n",
       "496  Guys i have not seen it. Should i start watchi...           7 months ago   \n",
       "497           Money heist is not a series  its emotion           7 months ago   \n",
       "498                      Heist is finally completed ️‍           7 months ago   \n",
       "499  I wish i was like Berlin. What a great acting....           7 months ago   \n",
       "\n",
       "    Comment upvotes  \n",
       "0              3.2K  \n",
       "1                1K  \n",
       "2               440  \n",
       "3               375  \n",
       "4               260  \n",
       "..              ...  \n",
       "495               1  \n",
       "496               3  \n",
       "497                  \n",
       "498                  \n",
       "499                  \n",
       "\n",
       "[500 rows x 3 columns]"
      ]
     },
     "execution_count": 22,
     "metadata": {},
     "output_type": "execute_result"
    }
   ],
   "source": [
    "# dataframe for scraped data\n",
    "\n",
    "Youtube=pd.DataFrame({})\n",
    "Youtube['Comments'] = comments\n",
    "Youtube['Comment_time'] = comment_time\n",
    "Youtube['Comment upvotes']=Likes\n",
    "Youtube"
   ]
  },
  {
   "cell_type": "code",
   "execution_count": null,
   "id": "d681ab06",
   "metadata": {},
   "outputs": [],
   "source": []
  }
 ],
 "metadata": {
  "kernelspec": {
   "display_name": "Python 3 (ipykernel)",
   "language": "python",
   "name": "python3"
  },
  "language_info": {
   "codemirror_mode": {
    "name": "ipython",
    "version": 3
   },
   "file_extension": ".py",
   "mimetype": "text/x-python",
   "name": "python",
   "nbconvert_exporter": "python",
   "pygments_lexer": "ipython3",
   "version": "3.9.7"
  }
 },
 "nbformat": 4,
 "nbformat_minor": 5
}
