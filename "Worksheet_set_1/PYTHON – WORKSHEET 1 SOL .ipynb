{
 "cells": [
  {
   "cell_type": "markdown",
   "id": "d783c2d6",
   "metadata": {},
   "source": [
    " ### <font color='red'>PYTHON – WORKSHEET 1 SOLUTION  Q 11 - Q 15</font>\n"
   ]
  },
  {
   "cell_type": "markdown",
   "id": "6b5a09ae",
   "metadata": {},
   "source": [
    "**11. Write a python program to find the factorial of a number.**\n"
   ]
  },
  {
   "cell_type": "markdown",
   "id": "0625d153",
   "metadata": {},
   "source": [
    "<font color='red'>**Solution 1 - Using recursion**\n",
    "</font>\n",
    "\n",
    "Recursion is a process in which the function calls itself directly or indirectly in a program.\n",
    "\n",
    "We will define a recursive function for finding the factorial of a number given by the user.\n",
    "\n",
    "Following steps are to be followed while writing the program.\n",
    "\n",
    "* Step 1 - Define function factorial() to calculate factorial\n",
    "\n",
    "\n",
    "* Step 2 - Check if the entered number is 1 or 0, if true return the number\n",
    "\n",
    "\n",
    "* Step 3 - If false, call the function recursively to calculate factorial of the number minus 1\n",
    "\n",
    "\n",
    "* Step 4 - Return the value of the number multiplied by the factorial of the number minus 1\n",
    "\n",
    "\n",
    "* Step 5 - Print the result"
   ]
  },
  {
   "cell_type": "code",
   "execution_count": 3,
   "id": "96028244",
   "metadata": {},
   "outputs": [
    {
     "name": "stdout",
     "output_type": "stream",
     "text": [
      "Enter number: 6\n",
      "Factorial of 6 is 720\n"
     ]
    }
   ],
   "source": [
    "def factorial(n):\n",
    "    if (n==1 or n==0):\n",
    "        return 1 \n",
    "    else:\n",
    "        return n * factorial(n - 1)\n",
    " \n",
    "num = int(input(\"Enter number: \"))\n",
    "x=factorial(num)\n",
    "print(\"Factorial of\",num,\"is\",x)"
   ]
  },
  {
   "cell_type": "markdown",
   "id": "137f8944",
   "metadata": {},
   "source": [
    "<font color='red'>**2 - Using conditional statements and loops**</font>\n",
    "\n",
    "Here, we will use conditional statements like if, elif and else and we will use a looping statement. \n",
    "\n",
    "Conditional statements in Python perform specific tasks depending on whether the condition evaluates \n",
    "\n",
    "as true or false. Whereas loops are used to execute a statement repeatedly. Look at the algorithm mentioned\n",
    "\n",
    "below to understand how we will use these features to find factorial.\n",
    "\n",
    "Following steps are to be followed while writing the program.\n",
    "\n",
    "* Step 1 - Take input from the user\n",
    "\n",
    "\n",
    "* Step 2 - Declare a variable factorial and initialise it to 1\n",
    "\n",
    "\n",
    "* Step 3 - Check if the number is positive or negative\n",
    "\n",
    "\n",
    "* Step 4 - If negative, print \"Factorial doest not exist\""
   ]
  },
  {
   "cell_type": "code",
   "execution_count": 4,
   "id": "15bbfd59",
   "metadata": {},
   "outputs": [
    {
     "name": "stdout",
     "output_type": "stream",
     "text": [
      "Enter number: 6\n",
      "The factorial of 6 is 720\n"
     ]
    }
   ],
   "source": [
    "num = int(input(\"Enter number: \"))\n",
    "factorial = 1\n",
    "if num < 0:\n",
    "   print(\"factorial does not exist for negative numbers\")\n",
    "elif num == 0:\n",
    "   print(\"The factorial of 0 is 1\")\n",
    "else:\n",
    "   for i in range(1,num + 1):\n",
    "       factorial = factorial*i\n",
    "   print(\"The factorial of\",num,\"is\",factorial)"
   ]
  },
  {
   "cell_type": "markdown",
   "id": "9587feee",
   "metadata": {},
   "source": [
    "<font color='red'>**3 - Using built-in math function**</font>\n",
    "\n",
    "In the math class of the Python library, there is a built-in function to calculate the factorial of a number.\n",
    "\n",
    "The function factorial() is used to find the factorial of any number.\n",
    "\n",
    "Following steps are to be followed while writing the program.\n",
    "\n",
    "* Step 1 - Import math class\n",
    "\n",
    "\n",
    "* Step 2 - Define a function that returns factorial\n",
    "\n",
    "\n",
    "* Step 3 - Call math.factorial()\n",
    "\n",
    "\n",
    "* Step 4- Print result returned by the function"
   ]
  },
  {
   "cell_type": "code",
   "execution_count": 5,
   "id": "b4c6df87",
   "metadata": {},
   "outputs": [
    {
     "name": "stdout",
     "output_type": "stream",
     "text": [
      "Enter number: 6\n",
      "Factorial of 6 is 720\n"
     ]
    }
   ],
   "source": [
    "import math\n",
    "\n",
    "def factorial(n):\n",
    "    \n",
    "    return(math.factorial(n))\n",
    " \n",
    "num = int(input(\"Enter number: \"))\n",
    "\n",
    "print(\"Factorial of\", num, \"is\",factorial(num))"
   ]
  },
  {
   "cell_type": "markdown",
   "id": "a7d016ed",
   "metadata": {},
   "source": [
    "**12. Write a python program to find whether a number is prime or composite.**\n"
   ]
  },
  {
   "cell_type": "markdown",
   "id": "4c0bc32b",
   "metadata": {},
   "source": [
    "<font color='red'>**What is Prime number?**</font>\n",
    "\n",
    "Any natural number that is divisible by 1 and itself is called Prime Number in Python. Prime number is not divisible by any other numbers except one and itself.\n",
    "\n",
    "Prime Numbers are 2, 3, 5, 7, 11, 13, 17, 19, 23, 29, 31, 37, 41, 43, 47, 53, 59, 61, 67, 71, 73, 79, 83, 89, 97, 101, 103, 107, 109 etc\n",
    "\n",
    "\n",
    "<font color='red'>**What is composite number?**</font>\n",
    "\n",
    "Any positive integer that can be formed by multiplying two smaller positive integers is called composite number. In other word, Composite number is a positive integer that has at least one divisor other than 1 and itself.\n",
    "\n",
    "We can say that composite numbers are exactly the numbers that are not prime and not a unit.\n",
    "\n",
    "Composite numbers are 4, 6, 8, 9, 10, 12, 14, 15, 16, 18, 20, 21, 22, 24, 25, 26, 27, 28, 30, 32, 33, 34, 35, 36, 38, 39, 40, 42, 44, 45, 46, 48, 49, 50, 51, 52, 54, 55, 56, 57, 58, 60, 62, 63, 64, 65, 66, 68, 69, 70, 72, 74, 75, 76, 77, 78, 80, 81, 82, 84, 85, 86, 87, 88, 90, 91, 92, 93, 94, 95, 96, 98, 99, 100, 102, 104, 105, 106, 108, 110, 111, 112, 114, 115, 116, 117, 118, 119, 120, 121, 122, 123, 124, 125, 126, 128, 129, 130, 132, 133, 134, 135, 136, 138, 140, 141, 142, 143, 144, 145, 146, 147, 148, 150 etc.\n"
   ]
  },
  {
   "cell_type": "code",
   "execution_count": 6,
   "id": "16bfbb2f",
   "metadata": {},
   "outputs": [
    {
     "name": "stdout",
     "output_type": "stream",
     "text": [
      "Enter any number: 43\n",
      "43 is prime number\n"
     ]
    }
   ],
   "source": [
    "# taking input from user\n",
    "number = int(input(\"Enter any number: \"))\n",
    "\n",
    "if(number == 0 or number == 1):\n",
    "        print(number,\"is neither prime nor composite number\")\n",
    "        \n",
    "elif number > 1 :\n",
    "    for i in range(2, number):\n",
    "        if(number % i == 0):\n",
    "            print(number, \"is composite number\")\n",
    "            break\n",
    "    else:\n",
    "        print(number, \"is prime number\")\n",
    "        \n",
    "else :\n",
    "    print(\"Please enter positive number only \")        \n"
   ]
  },
  {
   "cell_type": "markdown",
   "id": "03668c6a",
   "metadata": {},
   "source": [
    "**13. Write a python program to check whether a given string is palindrome or not.**\n"
   ]
  },
  {
   "cell_type": "markdown",
   "id": "97be8c23",
   "metadata": {},
   "source": [
    "<font color='red'>**What is a Palindrome?**</font>\n",
    "\n",
    "A palindrome is nothing but any number or a string which remains unaltered when reversed.\n",
    "\n",
    "Example: 12321\n",
    "\n",
    "Output: Yes, a Palindrome number\n",
    "\n",
    "Example: MADAM \n",
    "\n",
    "Output: Yes, a Palindrome string\n"
   ]
  },
  {
   "cell_type": "code",
   "execution_count": 8,
   "id": "3aa2c62b",
   "metadata": {},
   "outputs": [
    {
     "name": "stdout",
     "output_type": "stream",
     "text": [
      "Enter the value : MADAM\n",
      "Yes it is palindrome\n"
     ]
    }
   ],
   "source": [
    "s = input(\"Enter the value : \")\n",
    "\n",
    "reverse = s[::-1]      # slicing\n",
    "\n",
    "if ( s == reverse ):\n",
    "    print(\"Yes it is palindrome\")\n",
    "else:\n",
    "    print(\"No it is not palindrome\")"
   ]
  },
  {
   "cell_type": "code",
   "execution_count": 9,
   "id": "97967f94",
   "metadata": {},
   "outputs": [
    {
     "name": "stdout",
     "output_type": "stream",
     "text": [
      "Enter string: 1245421\n",
      "Entered string is palindrome\n"
     ]
    }
   ],
   "source": [
    "a = input (\"Enter string: \")\n",
    "\n",
    "b = a [-1::-1]\n",
    "\n",
    "if (a == b):\n",
    "    print(\"Entered string is palindrome\")\n",
    "else:\n",
    "    print(\"Entered string is not palindrome\")"
   ]
  },
  {
   "cell_type": "markdown",
   "id": "7128a18f",
   "metadata": {},
   "source": [
    "**14. Write a Python program to get the third side of right-angled triangle from two given sides.**"
   ]
  },
  {
   "cell_type": "code",
   "execution_count": 10,
   "id": "e0c45e26",
   "metadata": {},
   "outputs": [
    {
     "name": "stdout",
     "output_type": "stream",
     "text": [
      "Enter lengths of shorter triangle sides:\n",
      "Enter x: 8\n",
      "Enter y: 5\n",
      "The length of the hypotenuse i.e third side is: 9.433981132056603\n"
     ]
    }
   ],
   "source": [
    "# As Two sides are given, we will consider third as hypotenuse\n",
    "\n",
    "# x**2 = y**2 + z**2\n",
    "# z = sqrt(x**2 + y**2)\n",
    "\n",
    "from math import sqrt       # import square root function from math module       \n",
    "\n",
    "print(\"Enter lengths of shorter triangle sides:\")\n",
    "\n",
    "x = float(input(\"Enter x: \"))\n",
    "y = float(input(\"Enter y: \"))\n",
    "z = sqrt(x**2 + y**2)\n",
    "\n",
    "print(\"The length of the hypotenuse i.e third side is:\", z )"
   ]
  },
  {
   "cell_type": "markdown",
   "id": "4c17b7be",
   "metadata": {},
   "source": [
    "**15. Write a python program to print the frequency of each of the characters present in a given string**"
   ]
  },
  {
   "cell_type": "markdown",
   "id": "f03f9b34",
   "metadata": {},
   "source": [
    "<font color='red'>**Using \"in\" operator**</font>\n",
    "\n",
    "**Steps using \"in\" operator**\n",
    "\n",
    "* First, create a string variable, accept the string from the user and store it into a variable. In this case, str1 is a string variable.\n",
    "\n",
    "* Next, create an empty dictionary to store the character as key and frequency of character as value.\n",
    "\n",
    "* Loop over the string to get one character at a time (each iteration).\n",
    "\n",
    "* Check whether the character is already present in the dictionary using in operator.\n",
    "\n",
    "* If the character is not present then add the character into the dictionary with character as key and value set to 1.\n",
    "\n",
    "* If the character is already present in the dictionary then increase the value of the character by 1.\n",
    "\n",
    "* Finally, print the dictionary with characters as keys and values as the frequency of characters."
   ]
  },
  {
   "cell_type": "code",
   "execution_count": 11,
   "id": "03e20808",
   "metadata": {},
   "outputs": [
    {
     "name": "stdout",
     "output_type": "stream",
     "text": [
      "Enter the string: FLIP ROBO\n",
      "Frequency of each character: {'F': 1, 'L': 1, 'I': 1, 'P': 1, ' ': 1, 'R': 1, 'O': 2, 'B': 1}\n"
     ]
    }
   ],
   "source": [
    "str1 = input (\"Enter the string: \")\n",
    "\n",
    "d = dict()\n",
    "\n",
    "for c in str1:\n",
    "    \n",
    "    if c in d:\n",
    "        \n",
    "        d[c] = d[c] + 1\n",
    "        \n",
    "    else:\n",
    "        \n",
    "        d[c] = 1\n",
    "        \n",
    "print(\"Frequency of each character:\",d)"
   ]
  },
  {
   "cell_type": "markdown",
   "id": "263b6d82",
   "metadata": {},
   "source": [
    "<font color='red'>**Using \"get()\" function**</font>\n",
    "\n",
    "**get()** function takes two parameters. It checks whether the first parameter is present in the dictionary as key if present then it returns the value of key otherwise zero.\n",
    "\n",
    "**Steps using “get()” function**\n",
    "\n",
    "* First, create a string variable, accept the string from the user and store it into a variable. In this case, str1 is a string variable.\n",
    "\n",
    "* Next, create an empty dictionary to store the character as key and frequency of character as value.\n",
    "\n",
    "* Loop over the string to get one character at a time (each iteration).\n",
    "\n",
    "* Use get() the function to check the character is present in the dictionary, if present get function returns the value of character, then add one to it.\n",
    "\n",
    "* If the character is not present then the get() function returns 0, that is the second parameter, add 1 to it and put the character into the dictionary.\n",
    "\n",
    "* Finally, print the dictionary with characters as keys and values as the frequency of characters.\n"
   ]
  },
  {
   "cell_type": "code",
   "execution_count": 12,
   "id": "60121200",
   "metadata": {},
   "outputs": [
    {
     "name": "stdout",
     "output_type": "stream",
     "text": [
      "Enter the string: FLIP ROBO\n",
      "Frequency of each character: {'F': 1, 'L': 1, 'I': 1, 'P': 1, ' ': 1, 'R': 1, 'O': 2, 'B': 1}\n"
     ]
    }
   ],
   "source": [
    "str1 = input (\"Enter the string: \")\n",
    "\n",
    "d = dict()\n",
    "\n",
    "for c in str1:\n",
    "    \n",
    "    d[c] = d.get(c, 0) + 1\n",
    "    \n",
    "print(\"Frequency of each character:\",d)"
   ]
  },
  {
   "cell_type": "code",
   "execution_count": null,
   "id": "777f59fa",
   "metadata": {},
   "outputs": [],
   "source": []
  }
 ],
 "metadata": {
  "kernelspec": {
   "display_name": "Python 3 (ipykernel)",
   "language": "python",
   "name": "python3"
  },
  "language_info": {
   "codemirror_mode": {
    "name": "ipython",
    "version": 3
   },
   "file_extension": ".py",
   "mimetype": "text/x-python",
   "name": "python",
   "nbconvert_exporter": "python",
   "pygments_lexer": "ipython3",
   "version": "3.9.7"
  }
 },
 "nbformat": 4,
 "nbformat_minor": 5
}
