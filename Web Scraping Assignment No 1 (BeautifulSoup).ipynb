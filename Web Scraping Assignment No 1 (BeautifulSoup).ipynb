{
 "cells": [
  {
   "cell_type": "markdown",
   "id": "6694810b",
   "metadata": {},
   "source": [
    "# <font color='red'>Webscraping Assignment - 1</font>"
   ]
  },
  {
   "cell_type": "code",
   "execution_count": 1,
   "id": "753ec653",
   "metadata": {},
   "outputs": [
    {
     "name": "stdout",
     "output_type": "stream",
     "text": [
      "Requirement already satisfied: bs4 in c:\\users\\prita\\anaconda3\\lib\\site-packages (0.0.1)\n",
      "Requirement already satisfied: beautifulsoup4 in c:\\users\\prita\\anaconda3\\lib\\site-packages (from bs4) (4.10.0)\n",
      "Requirement already satisfied: soupsieve>1.2 in c:\\users\\prita\\anaconda3\\lib\\site-packages (from beautifulsoup4->bs4) (2.3.1)\n",
      "Requirement already satisfied: requests in c:\\users\\prita\\anaconda3\\lib\\site-packages (2.27.1)\n",
      "Requirement already satisfied: idna<4,>=2.5 in c:\\users\\prita\\anaconda3\\lib\\site-packages (from requests) (3.3)\n",
      "Requirement already satisfied: certifi>=2017.4.17 in c:\\users\\prita\\anaconda3\\lib\\site-packages (from requests) (2021.10.8)\n",
      "Requirement already satisfied: charset-normalizer~=2.0.0 in c:\\users\\prita\\anaconda3\\lib\\site-packages (from requests) (2.0.4)\n",
      "Requirement already satisfied: urllib3<1.27,>=1.21.1 in c:\\users\\prita\\anaconda3\\lib\\site-packages (from requests) (1.26.8)\n"
     ]
    }
   ],
   "source": [
    "# Installing Libraries\n",
    "\n",
    "!pip install bs4\n",
    "!pip install requests"
   ]
  },
  {
   "cell_type": "code",
   "execution_count": 2,
   "id": "aad4dc52",
   "metadata": {},
   "outputs": [],
   "source": [
    "# Importing the Required Libraries\n",
    "\n",
    "import requests\n",
    "from bs4 import BeautifulSoup\n",
    "import pandas as pd"
   ]
  },
  {
   "cell_type": "markdown",
   "id": "00470afa",
   "metadata": {},
   "source": [
    "### <font color='red'>1) Write a python program to display all the header tags from wikipedia.org.</font>"
   ]
  },
  {
   "cell_type": "code",
   "execution_count": 3,
   "id": "3e212b7d",
   "metadata": {},
   "outputs": [
    {
     "data": {
      "text/plain": [
       "<Response [200]>"
      ]
     },
     "execution_count": 3,
     "metadata": {},
     "output_type": "execute_result"
    }
   ],
   "source": [
    "page1=requests.get('https://en.wikipedia.org/wiki/Main_Page')\n",
    "page1"
   ]
  },
  {
   "cell_type": "code",
   "execution_count": 4,
   "id": "2280cec7",
   "metadata": {},
   "outputs": [],
   "source": [
    "soup1=BeautifulSoup(page1.content)\n"
   ]
  },
  {
   "cell_type": "code",
   "execution_count": 5,
   "id": "8d410891",
   "metadata": {},
   "outputs": [],
   "source": [
    "Header= soup1.find_all(['h1', 'h2','h3','h4','h5','h6'])"
   ]
  },
  {
   "cell_type": "code",
   "execution_count": 6,
   "id": "c3827b97",
   "metadata": {},
   "outputs": [],
   "source": [
    "Header_name=[]\n",
    "\n",
    "for i in Header:\n",
    "    Header_name.append(i.text.replace('\\n',''))\n",
    "    "
   ]
  },
  {
   "cell_type": "code",
   "execution_count": 7,
   "id": "6d73eadb",
   "metadata": {},
   "outputs": [
    {
     "data": {
      "text/plain": [
       "21"
      ]
     },
     "execution_count": 7,
     "metadata": {},
     "output_type": "execute_result"
    }
   ],
   "source": [
    "len(Header_name) "
   ]
  },
  {
   "cell_type": "code",
   "execution_count": 8,
   "id": "d0bc24e6",
   "metadata": {},
   "outputs": [
    {
     "data": {
      "text/html": [
       "<div>\n",
       "<style scoped>\n",
       "    .dataframe tbody tr th:only-of-type {\n",
       "        vertical-align: middle;\n",
       "    }\n",
       "\n",
       "    .dataframe tbody tr th {\n",
       "        vertical-align: top;\n",
       "    }\n",
       "\n",
       "    .dataframe thead th {\n",
       "        text-align: right;\n",
       "    }\n",
       "</style>\n",
       "<table border=\"1\" class=\"dataframe\">\n",
       "  <thead>\n",
       "    <tr style=\"text-align: right;\">\n",
       "      <th></th>\n",
       "      <th>Header_name</th>\n",
       "    </tr>\n",
       "  </thead>\n",
       "  <tbody>\n",
       "    <tr>\n",
       "      <th>1</th>\n",
       "      <td>Main Page</td>\n",
       "    </tr>\n",
       "    <tr>\n",
       "      <th>2</th>\n",
       "      <td>Welcome to Wikipedia</td>\n",
       "    </tr>\n",
       "    <tr>\n",
       "      <th>3</th>\n",
       "      <td>From today's featured article</td>\n",
       "    </tr>\n",
       "    <tr>\n",
       "      <th>4</th>\n",
       "      <td>Did you know ...</td>\n",
       "    </tr>\n",
       "    <tr>\n",
       "      <th>5</th>\n",
       "      <td>In the news</td>\n",
       "    </tr>\n",
       "    <tr>\n",
       "      <th>6</th>\n",
       "      <td>On this day</td>\n",
       "    </tr>\n",
       "    <tr>\n",
       "      <th>7</th>\n",
       "      <td>Today's featured picture</td>\n",
       "    </tr>\n",
       "    <tr>\n",
       "      <th>8</th>\n",
       "      <td>Other areas of Wikipedia</td>\n",
       "    </tr>\n",
       "    <tr>\n",
       "      <th>9</th>\n",
       "      <td>Wikipedia's sister projects</td>\n",
       "    </tr>\n",
       "    <tr>\n",
       "      <th>10</th>\n",
       "      <td>Wikipedia languages</td>\n",
       "    </tr>\n",
       "    <tr>\n",
       "      <th>11</th>\n",
       "      <td>Navigation menu</td>\n",
       "    </tr>\n",
       "    <tr>\n",
       "      <th>12</th>\n",
       "      <td>Personal tools</td>\n",
       "    </tr>\n",
       "    <tr>\n",
       "      <th>13</th>\n",
       "      <td>Namespaces</td>\n",
       "    </tr>\n",
       "    <tr>\n",
       "      <th>14</th>\n",
       "      <td>Views</td>\n",
       "    </tr>\n",
       "    <tr>\n",
       "      <th>15</th>\n",
       "      <td>Search</td>\n",
       "    </tr>\n",
       "    <tr>\n",
       "      <th>16</th>\n",
       "      <td>Navigation</td>\n",
       "    </tr>\n",
       "    <tr>\n",
       "      <th>17</th>\n",
       "      <td>Contribute</td>\n",
       "    </tr>\n",
       "    <tr>\n",
       "      <th>18</th>\n",
       "      <td>Tools</td>\n",
       "    </tr>\n",
       "    <tr>\n",
       "      <th>19</th>\n",
       "      <td>Print/export</td>\n",
       "    </tr>\n",
       "    <tr>\n",
       "      <th>20</th>\n",
       "      <td>In other projects</td>\n",
       "    </tr>\n",
       "    <tr>\n",
       "      <th>21</th>\n",
       "      <td>Languages</td>\n",
       "    </tr>\n",
       "  </tbody>\n",
       "</table>\n",
       "</div>"
      ],
      "text/plain": [
       "                      Header_name\n",
       "1                       Main Page\n",
       "2            Welcome to Wikipedia\n",
       "3   From today's featured article\n",
       "4                Did you know ...\n",
       "5                     In the news\n",
       "6                     On this day\n",
       "7        Today's featured picture\n",
       "8        Other areas of Wikipedia\n",
       "9     Wikipedia's sister projects\n",
       "10            Wikipedia languages\n",
       "11                Navigation menu\n",
       "12                 Personal tools\n",
       "13                     Namespaces\n",
       "14                          Views\n",
       "15                         Search\n",
       "16                     Navigation\n",
       "17                     Contribute\n",
       "18                          Tools\n",
       "19                   Print/export\n",
       "20              In other projects\n",
       "21                      Languages"
      ]
     },
     "execution_count": 8,
     "metadata": {},
     "output_type": "execute_result"
    }
   ],
   "source": [
    "# Making dataframe  \n",
    "\n",
    "df1 = pd.DataFrame({'Header_name':Header_name})\n",
    "df1.index=df1.index+1\n",
    "\n",
    "df1 "
   ]
  },
  {
   "cell_type": "markdown",
   "id": "9b897428",
   "metadata": {},
   "source": [
    "### <font color='red'>2) Write a python program to display IMDB’s Top rated 100 movies’ data (i.e. name, rating, year of release) and make data frame.</font>"
   ]
  },
  {
   "cell_type": "code",
   "execution_count": 9,
   "id": "8942ef22",
   "metadata": {},
   "outputs": [],
   "source": [
    "url = 'https://www.imdb.com/search/title/?count=100&groups=top_1000&sort=user_rating'\n",
    "response = requests.get(url)\n",
    "soup2 = BeautifulSoup(response.content, 'html.parser')"
   ]
  },
  {
   "cell_type": "code",
   "execution_count": 10,
   "id": "24d0c68e",
   "metadata": {},
   "outputs": [],
   "source": [
    "movie_name  = []\n",
    "year = []\n",
    "movie_rating = []"
   ]
  },
  {
   "cell_type": "code",
   "execution_count": 11,
   "id": "37672f1b",
   "metadata": {},
   "outputs": [],
   "source": [
    "movie_data = soup2.findAll('div', attrs= {'class': 'lister-item mode-advanced'})"
   ]
  },
  {
   "cell_type": "code",
   "execution_count": 12,
   "id": "b968d36e",
   "metadata": {},
   "outputs": [],
   "source": [
    "for store in movie_data:\n",
    "    name = store.h3.a.text    \n",
    "    movie_name.append(name)"
   ]
  },
  {
   "cell_type": "code",
   "execution_count": 13,
   "id": "9c28f8e5",
   "metadata": {},
   "outputs": [
    {
     "data": {
      "text/plain": [
       "100"
      ]
     },
     "execution_count": 13,
     "metadata": {},
     "output_type": "execute_result"
    }
   ],
   "source": [
    "len(movie_name)"
   ]
  },
  {
   "cell_type": "code",
   "execution_count": 14,
   "id": "0c8f43b2",
   "metadata": {},
   "outputs": [],
   "source": [
    "for store in movie_data:\n",
    "    year_of_release = store.h3.find('span', class_ = 'lister-item-year text-muted unbold').text\n",
    "    year.append(year_of_release)"
   ]
  },
  {
   "cell_type": "code",
   "execution_count": 15,
   "id": "29602f86",
   "metadata": {},
   "outputs": [
    {
     "data": {
      "text/plain": [
       "100"
      ]
     },
     "execution_count": 15,
     "metadata": {},
     "output_type": "execute_result"
    }
   ],
   "source": [
    "len(year)"
   ]
  },
  {
   "cell_type": "code",
   "execution_count": 16,
   "id": "58451ba4",
   "metadata": {},
   "outputs": [],
   "source": [
    "for store in movie_data:\n",
    "    rating = store.find('div', class_ = 'inline-block ratings-imdb-rating').text.replace('\\n','')\n",
    "    movie_rating.append(rating)"
   ]
  },
  {
   "cell_type": "code",
   "execution_count": 17,
   "id": "fc021f8d",
   "metadata": {},
   "outputs": [
    {
     "data": {
      "text/plain": [
       "100"
      ]
     },
     "execution_count": 17,
     "metadata": {},
     "output_type": "execute_result"
    }
   ],
   "source": [
    "len(movie_rating) "
   ]
  },
  {
   "cell_type": "code",
   "execution_count": 18,
   "id": "7e8dbb64",
   "metadata": {},
   "outputs": [
    {
     "data": {
      "text/html": [
       "<div>\n",
       "<style scoped>\n",
       "    .dataframe tbody tr th:only-of-type {\n",
       "        vertical-align: middle;\n",
       "    }\n",
       "\n",
       "    .dataframe tbody tr th {\n",
       "        vertical-align: top;\n",
       "    }\n",
       "\n",
       "    .dataframe thead th {\n",
       "        text-align: right;\n",
       "    }\n",
       "</style>\n",
       "<table border=\"1\" class=\"dataframe\">\n",
       "  <thead>\n",
       "    <tr style=\"text-align: right;\">\n",
       "      <th></th>\n",
       "      <th>Name of movie</th>\n",
       "      <th>Year of release</th>\n",
       "      <th>Rating</th>\n",
       "    </tr>\n",
       "    <tr>\n",
       "      <th>Rank</th>\n",
       "      <th></th>\n",
       "      <th></th>\n",
       "      <th></th>\n",
       "    </tr>\n",
       "  </thead>\n",
       "  <tbody>\n",
       "    <tr>\n",
       "      <th>1</th>\n",
       "      <td>The Shawshank Redemption</td>\n",
       "      <td>(1994)</td>\n",
       "      <td>9.3</td>\n",
       "    </tr>\n",
       "    <tr>\n",
       "      <th>2</th>\n",
       "      <td>The Godfather</td>\n",
       "      <td>(1972)</td>\n",
       "      <td>9.2</td>\n",
       "    </tr>\n",
       "    <tr>\n",
       "      <th>3</th>\n",
       "      <td>The Dark Knight</td>\n",
       "      <td>(2008)</td>\n",
       "      <td>9.0</td>\n",
       "    </tr>\n",
       "    <tr>\n",
       "      <th>4</th>\n",
       "      <td>The Lord of the Rings: The Return of the King</td>\n",
       "      <td>(2003)</td>\n",
       "      <td>9.0</td>\n",
       "    </tr>\n",
       "    <tr>\n",
       "      <th>5</th>\n",
       "      <td>Schindler's List</td>\n",
       "      <td>(1993)</td>\n",
       "      <td>9.0</td>\n",
       "    </tr>\n",
       "    <tr>\n",
       "      <th>...</th>\n",
       "      <td>...</td>\n",
       "      <td>...</td>\n",
       "      <td>...</td>\n",
       "    </tr>\n",
       "    <tr>\n",
       "      <th>96</th>\n",
       "      <td>Dangal</td>\n",
       "      <td>(2016)</td>\n",
       "      <td>8.3</td>\n",
       "    </tr>\n",
       "    <tr>\n",
       "      <th>97</th>\n",
       "      <td>Drishyam</td>\n",
       "      <td>(2013)</td>\n",
       "      <td>8.3</td>\n",
       "    </tr>\n",
       "    <tr>\n",
       "      <th>98</th>\n",
       "      <td>Jagten</td>\n",
       "      <td>(2012)</td>\n",
       "      <td>8.3</td>\n",
       "    </tr>\n",
       "    <tr>\n",
       "      <th>99</th>\n",
       "      <td>Jodaeiye Nader az Simin</td>\n",
       "      <td>(2011)</td>\n",
       "      <td>8.3</td>\n",
       "    </tr>\n",
       "    <tr>\n",
       "      <th>100</th>\n",
       "      <td>Incendies</td>\n",
       "      <td>(2010)</td>\n",
       "      <td>8.3</td>\n",
       "    </tr>\n",
       "  </tbody>\n",
       "</table>\n",
       "<p>100 rows × 3 columns</p>\n",
       "</div>"
      ],
      "text/plain": [
       "                                      Name of movie Year of release Rating\n",
       "Rank                                                                      \n",
       "1                          The Shawshank Redemption          (1994)    9.3\n",
       "2                                     The Godfather          (1972)    9.2\n",
       "3                                   The Dark Knight          (2008)    9.0\n",
       "4     The Lord of the Rings: The Return of the King          (2003)    9.0\n",
       "5                                  Schindler's List          (1993)    9.0\n",
       "...                                             ...             ...    ...\n",
       "96                                           Dangal          (2016)    8.3\n",
       "97                                         Drishyam          (2013)    8.3\n",
       "98                                           Jagten          (2012)    8.3\n",
       "99                          Jodaeiye Nader az Simin          (2011)    8.3\n",
       "100                                       Incendies          (2010)    8.3\n",
       "\n",
       "[100 rows x 3 columns]"
      ]
     },
     "execution_count": 18,
     "metadata": {},
     "output_type": "execute_result"
    }
   ],
   "source": [
    "# Making dataframe\n",
    "\n",
    "df2 = pd.DataFrame({'Name of movie': movie_name, 'Year of release': year, 'Rating':movie_rating})\n",
    "\n",
    "df2.index=df2.index+1\n",
    "df2.index.name=\"Rank\"\n",
    "\n",
    "df2"
   ]
  },
  {
   "cell_type": "markdown",
   "id": "52c1e1ab",
   "metadata": {},
   "source": [
    "### <font color='red'>3) Write a python program to display IMDB’s Top rated 100 Indian movies’ data (i.e. name, rating, year of release) and make data frame.</font>"
   ]
  },
  {
   "cell_type": "code",
   "execution_count": 19,
   "id": "e827258c",
   "metadata": {},
   "outputs": [
    {
     "data": {
      "text/plain": [
       "<Response [200]>"
      ]
     },
     "execution_count": 19,
     "metadata": {},
     "output_type": "execute_result"
    }
   ],
   "source": [
    "page3=requests.get('https://www.imdb.com/india/top-rated-indian-movies/?sort=ir,desc&mode=simple&page=1')\n",
    "page3"
   ]
  },
  {
   "cell_type": "code",
   "execution_count": 20,
   "id": "17c7301f",
   "metadata": {},
   "outputs": [],
   "source": [
    "soup3=BeautifulSoup(page3.content)"
   ]
  },
  {
   "cell_type": "code",
   "execution_count": 21,
   "id": "cf5b4a6c",
   "metadata": {},
   "outputs": [],
   "source": [
    "Movie_Titles = []\n",
    "\n",
    "for i in soup3.find_all(class_=\"titleColumn\"):\n",
    "    Movie_Titles.append(i.text.splitlines()[2])\n",
    "\n",
    "\n",
    "Movie_Titles = Movie_Titles[0:100]"
   ]
  },
  {
   "cell_type": "code",
   "execution_count": 22,
   "id": "5004df0d",
   "metadata": {},
   "outputs": [
    {
     "data": {
      "text/plain": [
       "100"
      ]
     },
     "execution_count": 22,
     "metadata": {},
     "output_type": "execute_result"
    }
   ],
   "source": [
    "len (Movie_Titles)"
   ]
  },
  {
   "cell_type": "code",
   "execution_count": 23,
   "id": "837964d2",
   "metadata": {},
   "outputs": [],
   "source": [
    "\n",
    "Movie_Year = []\n",
    "for i in soup3.find_all(class_=\"titleColumn\"):\n",
    "    Movie_Year.append(i.text.splitlines()[3])\n",
    "\n",
    "\n",
    "Movie_Year = Movie_Year[0:100]"
   ]
  },
  {
   "cell_type": "code",
   "execution_count": 24,
   "id": "a11a23b5",
   "metadata": {},
   "outputs": [
    {
     "data": {
      "text/plain": [
       "100"
      ]
     },
     "execution_count": 24,
     "metadata": {},
     "output_type": "execute_result"
    }
   ],
   "source": [
    "len (Movie_Year)"
   ]
  },
  {
   "cell_type": "code",
   "execution_count": 25,
   "id": "566e3615",
   "metadata": {},
   "outputs": [],
   "source": [
    "# Showing the Top 100 IMDB Rated Indian Movies Ratings\n",
    "\n",
    "Movie_Rating = []\n",
    "for i in soup3.find_all(class_=\"ratingColumn imdbRating\"):\n",
    "    Movie_Rating.append(i.text.splitlines()[1])\n",
    "\n",
    "\n",
    "Movie_Rating = Movie_Rating [0:100]"
   ]
  },
  {
   "cell_type": "code",
   "execution_count": 26,
   "id": "7ca49096",
   "metadata": {},
   "outputs": [
    {
     "data": {
      "text/plain": [
       "100"
      ]
     },
     "execution_count": 26,
     "metadata": {},
     "output_type": "execute_result"
    }
   ],
   "source": [
    "len (Movie_Rating)"
   ]
  },
  {
   "cell_type": "code",
   "execution_count": 27,
   "id": "1dae8f85",
   "metadata": {},
   "outputs": [
    {
     "data": {
      "text/html": [
       "<div>\n",
       "<style scoped>\n",
       "    .dataframe tbody tr th:only-of-type {\n",
       "        vertical-align: middle;\n",
       "    }\n",
       "\n",
       "    .dataframe tbody tr th {\n",
       "        vertical-align: top;\n",
       "    }\n",
       "\n",
       "    .dataframe thead th {\n",
       "        text-align: right;\n",
       "    }\n",
       "</style>\n",
       "<table border=\"1\" class=\"dataframe\">\n",
       "  <thead>\n",
       "    <tr style=\"text-align: right;\">\n",
       "      <th></th>\n",
       "      <th>Title</th>\n",
       "      <th>Rating</th>\n",
       "      <th>Year of Release</th>\n",
       "    </tr>\n",
       "    <tr>\n",
       "      <th>Rank</th>\n",
       "      <th></th>\n",
       "      <th></th>\n",
       "      <th></th>\n",
       "    </tr>\n",
       "  </thead>\n",
       "  <tbody>\n",
       "    <tr>\n",
       "      <th>1</th>\n",
       "      <td>Jai Bhim</td>\n",
       "      <td>8.4</td>\n",
       "      <td>(2021)</td>\n",
       "    </tr>\n",
       "    <tr>\n",
       "      <th>2</th>\n",
       "      <td>Anbe Sivam</td>\n",
       "      <td>8.4</td>\n",
       "      <td>(2003)</td>\n",
       "    </tr>\n",
       "    <tr>\n",
       "      <th>3</th>\n",
       "      <td>Golmaal</td>\n",
       "      <td>8.4</td>\n",
       "      <td>(1979)</td>\n",
       "    </tr>\n",
       "    <tr>\n",
       "      <th>4</th>\n",
       "      <td>Nayakan</td>\n",
       "      <td>8.4</td>\n",
       "      <td>(1987)</td>\n",
       "    </tr>\n",
       "    <tr>\n",
       "      <th>5</th>\n",
       "      <td>Pariyerum Perumal</td>\n",
       "      <td>8.4</td>\n",
       "      <td>(2018)</td>\n",
       "    </tr>\n",
       "    <tr>\n",
       "      <th>...</th>\n",
       "      <td>...</td>\n",
       "      <td>...</td>\n",
       "      <td>...</td>\n",
       "    </tr>\n",
       "    <tr>\n",
       "      <th>96</th>\n",
       "      <td>Masaan</td>\n",
       "      <td>8.0</td>\n",
       "      <td>(2015)</td>\n",
       "    </tr>\n",
       "    <tr>\n",
       "      <th>97</th>\n",
       "      <td>Kahaani</td>\n",
       "      <td>8.0</td>\n",
       "      <td>(2012)</td>\n",
       "    </tr>\n",
       "    <tr>\n",
       "      <th>98</th>\n",
       "      <td>Baahubali 2: The Conclusion</td>\n",
       "      <td>8.0</td>\n",
       "      <td>(2017)</td>\n",
       "    </tr>\n",
       "    <tr>\n",
       "      <th>99</th>\n",
       "      <td>Dil Chahta Hai</td>\n",
       "      <td>8.0</td>\n",
       "      <td>(2001)</td>\n",
       "    </tr>\n",
       "    <tr>\n",
       "      <th>100</th>\n",
       "      <td>Maheshinte Prathikaaram</td>\n",
       "      <td>8.0</td>\n",
       "      <td>(2016)</td>\n",
       "    </tr>\n",
       "  </tbody>\n",
       "</table>\n",
       "<p>100 rows × 3 columns</p>\n",
       "</div>"
      ],
      "text/plain": [
       "                                  Title Rating Year of Release\n",
       "Rank                                                          \n",
       "1                              Jai Bhim    8.4          (2021)\n",
       "2                            Anbe Sivam    8.4          (2003)\n",
       "3                               Golmaal    8.4          (1979)\n",
       "4                               Nayakan    8.4          (1987)\n",
       "5                     Pariyerum Perumal    8.4          (2018)\n",
       "...                                 ...    ...             ...\n",
       "96                               Masaan    8.0          (2015)\n",
       "97                              Kahaani    8.0          (2012)\n",
       "98          Baahubali 2: The Conclusion    8.0          (2017)\n",
       "99                       Dil Chahta Hai    8.0          (2001)\n",
       "100             Maheshinte Prathikaaram    8.0          (2016)\n",
       "\n",
       "[100 rows x 3 columns]"
      ]
     },
     "execution_count": 27,
     "metadata": {},
     "output_type": "execute_result"
    }
   ],
   "source": [
    "# Making DataFrame   \n",
    "\n",
    "df3=pd.DataFrame({'Title':Movie_Titles,'Rating':Movie_Rating,'Year of Release':Movie_Year})\n",
    "\n",
    "df3.index=df3.index+1 \n",
    "df3.index.name=\"Rank\"\n",
    "\n",
    "df3 "
   ]
  },
  {
   "cell_type": "markdown",
   "id": "1c546e07",
   "metadata": {},
   "source": [
    "### <font color='red'> 4) Write s python program to display list of respected former presidents of India(i.e. Name , Term of office) from https://presidentofindia.nic.in/former-presidents.htm</font>"
   ]
  },
  {
   "cell_type": "code",
   "execution_count": 28,
   "id": "c6a69d14",
   "metadata": {},
   "outputs": [
    {
     "data": {
      "text/plain": [
       "<Response [200]>"
      ]
     },
     "execution_count": 28,
     "metadata": {},
     "output_type": "execute_result"
    }
   ],
   "source": [
    "page4= requests.get('https://presidentofindia.nic.in/former-presidents.htm')\n",
    "page4"
   ]
  },
  {
   "cell_type": "code",
   "execution_count": 29,
   "id": "e7a71747",
   "metadata": {},
   "outputs": [],
   "source": [
    "soup4=BeautifulSoup(page4.content)"
   ]
  },
  {
   "cell_type": "code",
   "execution_count": 30,
   "id": "83befecf",
   "metadata": {},
   "outputs": [],
   "source": [
    "presidents=[]\n",
    "\n",
    "for name in soup4.find_all('h3'):\n",
    "    presidents.append(name.text)  \n",
    " "
   ]
  },
  {
   "cell_type": "code",
   "execution_count": 31,
   "id": "533cb30a",
   "metadata": {},
   "outputs": [],
   "source": [
    "tof=[]\n",
    "\n",
    "for term in soup4.find_all('p'):\n",
    "    tof.append(term.text)\n",
    "\n",
    "tof=tof[0:5:2]"
   ]
  },
  {
   "cell_type": "code",
   "execution_count": 32,
   "id": "45c26732",
   "metadata": {},
   "outputs": [],
   "source": [
    "office=[]\n",
    "\n",
    "for term in soup4.find_all('p'):\n",
    "    office.append(term.text)\n",
    "\n",
    "office=office[6:16]"
   ]
  },
  {
   "cell_type": "code",
   "execution_count": 33,
   "id": "41cf56a8",
   "metadata": {},
   "outputs": [],
   "source": [
    "final=tof+office"
   ]
  },
  {
   "cell_type": "code",
   "execution_count": 34,
   "id": "909fc5c1",
   "metadata": {},
   "outputs": [],
   "source": [
    "term_of_office=[]\n",
    "\n",
    "for i in final:\n",
    "    term_of_office.append(i.split(\":\")[1])\n",
    "        "
   ]
  },
  {
   "cell_type": "code",
   "execution_count": 35,
   "id": "79ed0a82",
   "metadata": {},
   "outputs": [
    {
     "data": {
      "text/html": [
       "<div>\n",
       "<style scoped>\n",
       "    .dataframe tbody tr th:only-of-type {\n",
       "        vertical-align: middle;\n",
       "    }\n",
       "\n",
       "    .dataframe tbody tr th {\n",
       "        vertical-align: top;\n",
       "    }\n",
       "\n",
       "    .dataframe thead th {\n",
       "        text-align: right;\n",
       "    }\n",
       "</style>\n",
       "<table border=\"1\" class=\"dataframe\">\n",
       "  <thead>\n",
       "    <tr style=\"text-align: right;\">\n",
       "      <th></th>\n",
       "      <th>Former Presidents</th>\n",
       "      <th>Term of Office</th>\n",
       "    </tr>\n",
       "  </thead>\n",
       "  <tbody>\n",
       "    <tr>\n",
       "      <th>1</th>\n",
       "      <td>Shri Pranab Mukherjee (1935-2020)</td>\n",
       "      <td>25 July, 2012 to 25 July, 2017</td>\n",
       "    </tr>\n",
       "    <tr>\n",
       "      <th>2</th>\n",
       "      <td>Smt Pratibha Devisingh Patil (birth - 1934)</td>\n",
       "      <td>25 July, 2007 to 25 July, 2012</td>\n",
       "    </tr>\n",
       "    <tr>\n",
       "      <th>3</th>\n",
       "      <td>DR. A.P.J. Abdul Kalam (1931-2015)</td>\n",
       "      <td>25 July, 2002 to 25 July, 2007</td>\n",
       "    </tr>\n",
       "    <tr>\n",
       "      <th>4</th>\n",
       "      <td>Shri K. R. Narayanan (1920 - 2005)</td>\n",
       "      <td>25 July, 1997 to 25 July, 2002</td>\n",
       "    </tr>\n",
       "    <tr>\n",
       "      <th>5</th>\n",
       "      <td>Dr Shankar Dayal Sharma (1918-1999)</td>\n",
       "      <td>25 July, 1992 to 25 July, 1997</td>\n",
       "    </tr>\n",
       "    <tr>\n",
       "      <th>6</th>\n",
       "      <td>Shri R Venkataraman (1910-2009)</td>\n",
       "      <td>25 July, 1987 to 25 July, 1992</td>\n",
       "    </tr>\n",
       "    <tr>\n",
       "      <th>7</th>\n",
       "      <td>Giani Zail Singh (1916-1994)</td>\n",
       "      <td>25 July, 1982 to 25 July, 1987</td>\n",
       "    </tr>\n",
       "    <tr>\n",
       "      <th>8</th>\n",
       "      <td>Shri Neelam Sanjiva Reddy (1913-1996)</td>\n",
       "      <td>25 July, 1977 to 25 July, 1982</td>\n",
       "    </tr>\n",
       "    <tr>\n",
       "      <th>9</th>\n",
       "      <td>Dr. Fakhruddin Ali Ahmed (1905-1977)</td>\n",
       "      <td>24 August, 1974 to 11 February, 1977</td>\n",
       "    </tr>\n",
       "    <tr>\n",
       "      <th>10</th>\n",
       "      <td>Shri Varahagiri Venkata Giri (1894-1980)</td>\n",
       "      <td>3 May, 1969 to 20 July, 1969 and 24 August, 1...</td>\n",
       "    </tr>\n",
       "    <tr>\n",
       "      <th>11</th>\n",
       "      <td>Dr. Zakir Husain (1897-1969)</td>\n",
       "      <td>13 May, 1967 to 3 May, 1969</td>\n",
       "    </tr>\n",
       "    <tr>\n",
       "      <th>12</th>\n",
       "      <td>Dr. Sarvepalli Radhakrishnan (1888-1975)</td>\n",
       "      <td>13 May, 1962 to 13 May, 1967</td>\n",
       "    </tr>\n",
       "    <tr>\n",
       "      <th>13</th>\n",
       "      <td>Dr. Rajendra Prasad (1884-1963)</td>\n",
       "      <td>26 January, 1950 to 13 May, 1962</td>\n",
       "    </tr>\n",
       "  </tbody>\n",
       "</table>\n",
       "</div>"
      ],
      "text/plain": [
       "                              Former Presidents  \\\n",
       "1             Shri Pranab Mukherjee (1935-2020)   \n",
       "2   Smt Pratibha Devisingh Patil (birth - 1934)   \n",
       "3            DR. A.P.J. Abdul Kalam (1931-2015)   \n",
       "4            Shri K. R. Narayanan (1920 - 2005)   \n",
       "5           Dr Shankar Dayal Sharma (1918-1999)   \n",
       "6               Shri R Venkataraman (1910-2009)   \n",
       "7                  Giani Zail Singh (1916-1994)   \n",
       "8         Shri Neelam Sanjiva Reddy (1913-1996)   \n",
       "9          Dr. Fakhruddin Ali Ahmed (1905-1977)   \n",
       "10     Shri Varahagiri Venkata Giri (1894-1980)   \n",
       "11                 Dr. Zakir Husain (1897-1969)   \n",
       "12     Dr. Sarvepalli Radhakrishnan (1888-1975)   \n",
       "13             Dr. Rajendra Prasad (1884-1963)    \n",
       "\n",
       "                                       Term of Office  \n",
       "1                     25 July, 2012 to 25 July, 2017   \n",
       "2                     25 July, 2007 to 25 July, 2012   \n",
       "3                     25 July, 2002 to 25 July, 2007   \n",
       "4                     25 July, 1997 to 25 July, 2002   \n",
       "5                     25 July, 1992 to 25 July, 1997   \n",
       "6                     25 July, 1987 to 25 July, 1992   \n",
       "7                     25 July, 1982 to 25 July, 1987   \n",
       "8                     25 July, 1977 to 25 July, 1982   \n",
       "9                24 August, 1974 to 11 February, 1977  \n",
       "10   3 May, 1969 to 20 July, 1969 and 24 August, 1...  \n",
       "11                        13 May, 1967 to 3 May, 1969  \n",
       "12                       13 May, 1962 to 13 May, 1967  \n",
       "13                   26 January, 1950 to 13 May, 1962  "
      ]
     },
     "execution_count": 35,
     "metadata": {},
     "output_type": "execute_result"
    }
   ],
   "source": [
    "# Making DataFrame\n",
    "\n",
    "df3=pd.DataFrame({\"Former Presidents\":presidents,\"Term of Office\":term_of_office})\n",
    "df3.index=df3.index+1\n",
    "\n",
    "df3"
   ]
  },
  {
   "cell_type": "markdown",
   "id": "c7b85847",
   "metadata": {},
   "source": [
    "### <font color='red'>5) Write a python program to scrape cricket rankings from icc-cricket.com. You have to scrape:</font>\n",
    "\n",
    "### <font color='red'>a) Top 10 ODI teams in men’s cricket along with the records for matches, points and rating.</font>\n",
    "\n",
    "### <font color='red'>b) Top 10 ODI Batsmen along with the records of their team and rating.</font>\n",
    "\n",
    "### <font color='red'>c) Top 10 ODI bowlers along with the records of their team and rating.</font>"
   ]
  },
  {
   "cell_type": "code",
   "execution_count": null,
   "id": "6bee2ed6",
   "metadata": {},
   "outputs": [],
   "source": []
  },
  {
   "cell_type": "markdown",
   "id": "db8a2175",
   "metadata": {},
   "source": [
    "#### <font color='red'>a) Top 10 ODI teams in men’s cricket along with the records for matches, points and rating.</font>"
   ]
  },
  {
   "cell_type": "code",
   "execution_count": 36,
   "id": "7ecb70d6",
   "metadata": {},
   "outputs": [
    {
     "data": {
      "text/plain": [
       "<Response [200]>"
      ]
     },
     "execution_count": 36,
     "metadata": {},
     "output_type": "execute_result"
    }
   ],
   "source": [
    "page5= requests.get('https://www.icc-cricket.com/rankings/mens/team-rankings/odi')\n",
    "page5"
   ]
  },
  {
   "cell_type": "code",
   "execution_count": 37,
   "id": "3bc5816d",
   "metadata": {},
   "outputs": [],
   "source": [
    "soup5=BeautifulSoup(page5.content)"
   ]
  },
  {
   "cell_type": "code",
   "execution_count": 38,
   "id": "1519cdf8",
   "metadata": {},
   "outputs": [],
   "source": [
    "team = soup5.find_all('span', class_='u-hide-phablet')"
   ]
  },
  {
   "cell_type": "code",
   "execution_count": 39,
   "id": "3304bb52",
   "metadata": {},
   "outputs": [],
   "source": [
    "Team_Name = []\n",
    "\n",
    "for i in team:\n",
    "    Team_Name.append(i.text)\n",
    "    \n",
    "Team_Name = Team_Name[0:20]"
   ]
  },
  {
   "cell_type": "code",
   "execution_count": 40,
   "id": "e57680cc",
   "metadata": {},
   "outputs": [],
   "source": [
    "matches = soup5.find_all('td', class_ = ('rankings-block__banner--matches','rankings-block__banner--points','table-body__cell u-center-text'))"
   ]
  },
  {
   "cell_type": "code",
   "execution_count": 41,
   "id": "4a7fc071",
   "metadata": {},
   "outputs": [],
   "source": [
    "Matches = []\n",
    "\n",
    "for i in matches:\n",
    "    Matches.append(i.text)\n",
    "    "
   ]
  },
  {
   "cell_type": "code",
   "execution_count": 42,
   "id": "46a1d333",
   "metadata": {},
   "outputs": [
    {
     "data": {
      "text/plain": [
       "40"
      ]
     },
     "execution_count": 42,
     "metadata": {},
     "output_type": "execute_result"
    }
   ],
   "source": [
    "len(Matches)"
   ]
  },
  {
   "cell_type": "code",
   "execution_count": 43,
   "id": "ecdc4de9",
   "metadata": {},
   "outputs": [],
   "source": [
    "MATCHES = Matches[0:40:2]"
   ]
  },
  {
   "cell_type": "code",
   "execution_count": 44,
   "id": "6a3c44f5",
   "metadata": {},
   "outputs": [
    {
     "data": {
      "text/plain": [
       "20"
      ]
     },
     "execution_count": 44,
     "metadata": {},
     "output_type": "execute_result"
    }
   ],
   "source": [
    "len(MATCHES)"
   ]
  },
  {
   "cell_type": "code",
   "execution_count": 45,
   "id": "b4eea681",
   "metadata": {},
   "outputs": [],
   "source": [
    "Points = Matches[1:40:2]"
   ]
  },
  {
   "cell_type": "code",
   "execution_count": 46,
   "id": "6ae12a9d",
   "metadata": {},
   "outputs": [
    {
     "data": {
      "text/plain": [
       "20"
      ]
     },
     "execution_count": 46,
     "metadata": {},
     "output_type": "execute_result"
    }
   ],
   "source": [
    "len(Points)"
   ]
  },
  {
   "cell_type": "code",
   "execution_count": 47,
   "id": "eb74b284",
   "metadata": {},
   "outputs": [],
   "source": [
    "rating= soup5.find_all('td',class_=('rankings-block__banner--rating u-text-right','table-body__cell u-text-right rating'))"
   ]
  },
  {
   "cell_type": "code",
   "execution_count": 48,
   "id": "25234650",
   "metadata": {},
   "outputs": [],
   "source": [
    "Rating = []\n",
    "\n",
    "for i in rating:\n",
    "    Rating.append(i.text.replace('\\n',''))\n"
   ]
  },
  {
   "cell_type": "code",
   "execution_count": 49,
   "id": "c0dad91a",
   "metadata": {},
   "outputs": [
    {
     "data": {
      "text/plain": [
       "20"
      ]
     },
     "execution_count": 49,
     "metadata": {},
     "output_type": "execute_result"
    }
   ],
   "source": [
    "len(Rating)"
   ]
  },
  {
   "cell_type": "code",
   "execution_count": 50,
   "id": "611abedf",
   "metadata": {},
   "outputs": [
    {
     "data": {
      "text/html": [
       "<div>\n",
       "<style scoped>\n",
       "    .dataframe tbody tr th:only-of-type {\n",
       "        vertical-align: middle;\n",
       "    }\n",
       "\n",
       "    .dataframe tbody tr th {\n",
       "        vertical-align: top;\n",
       "    }\n",
       "\n",
       "    .dataframe thead th {\n",
       "        text-align: right;\n",
       "    }\n",
       "</style>\n",
       "<table border=\"1\" class=\"dataframe\">\n",
       "  <thead>\n",
       "    <tr style=\"text-align: right;\">\n",
       "      <th></th>\n",
       "      <th>Team</th>\n",
       "      <th>Matches</th>\n",
       "      <th>Point</th>\n",
       "      <th>Rating</th>\n",
       "    </tr>\n",
       "    <tr>\n",
       "      <th>Position</th>\n",
       "      <th></th>\n",
       "      <th></th>\n",
       "      <th></th>\n",
       "      <th></th>\n",
       "    </tr>\n",
       "  </thead>\n",
       "  <tbody>\n",
       "    <tr>\n",
       "      <th>1</th>\n",
       "      <td>New Zealand</td>\n",
       "      <td>12</td>\n",
       "      <td>1,505</td>\n",
       "      <td>125               ...</td>\n",
       "    </tr>\n",
       "    <tr>\n",
       "      <th>2</th>\n",
       "      <td>England</td>\n",
       "      <td>22</td>\n",
       "      <td>2,756</td>\n",
       "      <td>125</td>\n",
       "    </tr>\n",
       "    <tr>\n",
       "      <th>3</th>\n",
       "      <td>Pakistan</td>\n",
       "      <td>19</td>\n",
       "      <td>2,005</td>\n",
       "      <td>106</td>\n",
       "    </tr>\n",
       "    <tr>\n",
       "      <th>4</th>\n",
       "      <td>India</td>\n",
       "      <td>22</td>\n",
       "      <td>2,304</td>\n",
       "      <td>105</td>\n",
       "    </tr>\n",
       "    <tr>\n",
       "      <th>5</th>\n",
       "      <td>Australia</td>\n",
       "      <td>23</td>\n",
       "      <td>2,325</td>\n",
       "      <td>101</td>\n",
       "    </tr>\n",
       "    <tr>\n",
       "      <th>6</th>\n",
       "      <td>South Africa</td>\n",
       "      <td>19</td>\n",
       "      <td>1,872</td>\n",
       "      <td>99</td>\n",
       "    </tr>\n",
       "    <tr>\n",
       "      <th>7</th>\n",
       "      <td>Bangladesh</td>\n",
       "      <td>24</td>\n",
       "      <td>2,275</td>\n",
       "      <td>95</td>\n",
       "    </tr>\n",
       "    <tr>\n",
       "      <th>8</th>\n",
       "      <td>Sri Lanka</td>\n",
       "      <td>29</td>\n",
       "      <td>2,658</td>\n",
       "      <td>92</td>\n",
       "    </tr>\n",
       "    <tr>\n",
       "      <th>9</th>\n",
       "      <td>West Indies</td>\n",
       "      <td>32</td>\n",
       "      <td>2,306</td>\n",
       "      <td>72</td>\n",
       "    </tr>\n",
       "    <tr>\n",
       "      <th>10</th>\n",
       "      <td>Afghanistan</td>\n",
       "      <td>18</td>\n",
       "      <td>1,238</td>\n",
       "      <td>69</td>\n",
       "    </tr>\n",
       "  </tbody>\n",
       "</table>\n",
       "</div>"
      ],
      "text/plain": [
       "                  Team Matches  Point  \\\n",
       "Position                                \n",
       "1          New Zealand      12  1,505   \n",
       "2              England      22  2,756   \n",
       "3             Pakistan      19  2,005   \n",
       "4                India      22  2,304   \n",
       "5            Australia      23  2,325   \n",
       "6         South Africa      19  1,872   \n",
       "7           Bangladesh      24  2,275   \n",
       "8            Sri Lanka      29  2,658   \n",
       "9          West Indies      32  2,306   \n",
       "10         Afghanistan      18  1,238   \n",
       "\n",
       "                                                     Rating  \n",
       "Position                                                     \n",
       "1                                     125               ...  \n",
       "2                                                       125  \n",
       "3                                                       106  \n",
       "4                                                       105  \n",
       "5                                                       101  \n",
       "6                                                        99  \n",
       "7                                                        95  \n",
       "8                                                        92  \n",
       "9                                                        72  \n",
       "10                                                       69  "
      ]
     },
     "execution_count": 50,
     "metadata": {},
     "output_type": "execute_result"
    }
   ],
   "source": [
    "# Making DataFrame \n",
    "\n",
    "df5=pd.DataFrame({'Team':Team_Name,'Matches':MATCHES,'Point':Points,'Rating':Rating})\n",
    "\n",
    "df5.index=df5.index+1 \n",
    "df5.index.name=\"Position\"\n",
    "\n",
    "df5.head(10)\n",
    "\n",
    "#-------------------------------OR----------------------------#\n",
    "\n",
    "# Another way of Making DataFrame\n",
    "\n",
    "# Top_10_team = pd.DataFrame({})\n",
    "\n",
    "# Top_10_team['Team']=Team_Name[:10]\n",
    "# Top_10_team['Matches']=MATCHES[:10]\n",
    "# Top_10_team['Point']=Points[:10]\n",
    "# Top_10_team['Rating']=Rating[:10]\n",
    "\n",
    "# Top_10_team"
   ]
  },
  {
   "cell_type": "markdown",
   "id": "2c5de383",
   "metadata": {},
   "source": [
    "#### <font color='red'>b) Top 10 ODI Batsmen along with the records of their team and rating.</font>"
   ]
  },
  {
   "cell_type": "code",
   "execution_count": 51,
   "id": "9978cf39",
   "metadata": {},
   "outputs": [
    {
     "data": {
      "text/plain": [
       "<Response [200]>"
      ]
     },
     "execution_count": 51,
     "metadata": {},
     "output_type": "execute_result"
    }
   ],
   "source": [
    "page6 = requests.get('https://www.icc-cricket.com/rankings/mens/player-rankings/odi/batting')\n",
    "page6 "
   ]
  },
  {
   "cell_type": "code",
   "execution_count": 52,
   "id": "64a8b98d",
   "metadata": {},
   "outputs": [],
   "source": [
    "soup6 = BeautifulSoup(page6.content)"
   ]
  },
  {
   "cell_type": "code",
   "execution_count": 53,
   "id": "15da20d3",
   "metadata": {},
   "outputs": [],
   "source": [
    "pname = soup6.find_all(('div','td'), class_=('rankings-block__banner--name-large','table-body__cell rankings-table__name name'))"
   ]
  },
  {
   "cell_type": "code",
   "execution_count": 54,
   "id": "1775699d",
   "metadata": {},
   "outputs": [],
   "source": [
    "Player = []\n",
    "\n",
    "for i in pname:\n",
    "    Player.append(i.text.replace('\\n',''))\n",
    "    "
   ]
  },
  {
   "cell_type": "code",
   "execution_count": 55,
   "id": "8c8e31ca",
   "metadata": {},
   "outputs": [],
   "source": [
    "team = soup6.find_all(('div','span'), class_=('rankings-block__banner--nationality','table-body__logo-text'))"
   ]
  },
  {
   "cell_type": "code",
   "execution_count": 56,
   "id": "9fc597a8",
   "metadata": {},
   "outputs": [],
   "source": [
    "Team = []\n",
    "\n",
    "for i in team:\n",
    "    Team.append(i.text.replace('\\n',''))\n",
    "    "
   ]
  },
  {
   "cell_type": "code",
   "execution_count": 57,
   "id": "f8f189fa",
   "metadata": {},
   "outputs": [],
   "source": [
    "rating = soup6.find_all(('div','td'), class_= ('rankings-block__banner--rating','table-body__cell rating'))"
   ]
  },
  {
   "cell_type": "code",
   "execution_count": 58,
   "id": "7eccf249",
   "metadata": {
    "scrolled": true
   },
   "outputs": [],
   "source": [
    "Rating = []\n",
    "\n",
    "for i in rating:\n",
    "    Rating.append(i.text)\n",
    "    "
   ]
  },
  {
   "cell_type": "code",
   "execution_count": 59,
   "id": "45af07c4",
   "metadata": {},
   "outputs": [
    {
     "data": {
      "text/html": [
       "<div>\n",
       "<style scoped>\n",
       "    .dataframe tbody tr th:only-of-type {\n",
       "        vertical-align: middle;\n",
       "    }\n",
       "\n",
       "    .dataframe tbody tr th {\n",
       "        vertical-align: top;\n",
       "    }\n",
       "\n",
       "    .dataframe thead th {\n",
       "        text-align: right;\n",
       "    }\n",
       "</style>\n",
       "<table border=\"1\" class=\"dataframe\">\n",
       "  <thead>\n",
       "    <tr style=\"text-align: right;\">\n",
       "      <th></th>\n",
       "      <th>Player</th>\n",
       "      <th>Team</th>\n",
       "      <th>Rating</th>\n",
       "    </tr>\n",
       "    <tr>\n",
       "      <th>Position</th>\n",
       "      <th></th>\n",
       "      <th></th>\n",
       "      <th></th>\n",
       "    </tr>\n",
       "  </thead>\n",
       "  <tbody>\n",
       "    <tr>\n",
       "      <th>1</th>\n",
       "      <td>Babar Azam</td>\n",
       "      <td>PAK</td>\n",
       "      <td>892</td>\n",
       "    </tr>\n",
       "    <tr>\n",
       "      <th>2</th>\n",
       "      <td>Imam-ul-Haq</td>\n",
       "      <td>PAK</td>\n",
       "      <td>815</td>\n",
       "    </tr>\n",
       "    <tr>\n",
       "      <th>3</th>\n",
       "      <td>Virat Kohli</td>\n",
       "      <td>IND</td>\n",
       "      <td>811</td>\n",
       "    </tr>\n",
       "    <tr>\n",
       "      <th>4</th>\n",
       "      <td>Rohit Sharma</td>\n",
       "      <td>IND</td>\n",
       "      <td>791</td>\n",
       "    </tr>\n",
       "    <tr>\n",
       "      <th>5</th>\n",
       "      <td>Quinton de Kock</td>\n",
       "      <td>SA</td>\n",
       "      <td>789</td>\n",
       "    </tr>\n",
       "    <tr>\n",
       "      <th>6</th>\n",
       "      <td>Ross Taylor</td>\n",
       "      <td>NZ</td>\n",
       "      <td>775</td>\n",
       "    </tr>\n",
       "    <tr>\n",
       "      <th>7</th>\n",
       "      <td>Rassie van der Dussen</td>\n",
       "      <td>SA</td>\n",
       "      <td>769</td>\n",
       "    </tr>\n",
       "    <tr>\n",
       "      <th>8</th>\n",
       "      <td>Jonny Bairstow</td>\n",
       "      <td>ENG</td>\n",
       "      <td>752</td>\n",
       "    </tr>\n",
       "    <tr>\n",
       "      <th>9</th>\n",
       "      <td>David Warner</td>\n",
       "      <td>AUS</td>\n",
       "      <td>737</td>\n",
       "    </tr>\n",
       "    <tr>\n",
       "      <th>10</th>\n",
       "      <td>Shai Hope</td>\n",
       "      <td>WI</td>\n",
       "      <td>718</td>\n",
       "    </tr>\n",
       "  </tbody>\n",
       "</table>\n",
       "</div>"
      ],
      "text/plain": [
       "                         Player                     Team Rating\n",
       "Position                                                       \n",
       "1                    Babar Azam  PAK                        892\n",
       "2                   Imam-ul-Haq                      PAK    815\n",
       "3                   Virat Kohli                      IND    811\n",
       "4                  Rohit Sharma                      IND    791\n",
       "5               Quinton de Kock                       SA    789\n",
       "6                   Ross Taylor                       NZ    775\n",
       "7         Rassie van der Dussen                       SA    769\n",
       "8                Jonny Bairstow                      ENG    752\n",
       "9                  David Warner                      AUS    737\n",
       "10                    Shai Hope                       WI    718"
      ]
     },
     "execution_count": 59,
     "metadata": {},
     "output_type": "execute_result"
    }
   ],
   "source": [
    "# Making DataFrame \n",
    "\n",
    "df6=pd.DataFrame({'Player':Player,'Team':Team,'Rating':Rating})\n",
    "\n",
    "df6.index=df6.index+1\n",
    "df6.index.name=\"Position\"\n",
    "\n",
    "df6.head(10)\n",
    "\n",
    "#-------------------------------OR----------------------------#\n",
    "\n",
    "# Another way of Making DataFrame\n",
    "\n",
    "# Top_10_ODI_batsman = pd.DataFrame({})\n",
    "\n",
    "# Top_10_ODI_batsman['Player']=Player[:10]\n",
    "\n",
    "# Top_10_ODI_batsman['Team']=Team[:10]\n",
    "# Top_10_ODI_batsman['Rating']=Rating[:10]\n",
    "\n",
    "# Top_10_ODI_batsman "
   ]
  },
  {
   "cell_type": "markdown",
   "id": "935b70eb",
   "metadata": {},
   "source": [
    "#### <font color='red'>c) Top 10 ODI bowlers along with the records of their team and rating.</font>"
   ]
  },
  {
   "cell_type": "code",
   "execution_count": 60,
   "id": "0a587483",
   "metadata": {},
   "outputs": [
    {
     "data": {
      "text/plain": [
       "<Response [200]>"
      ]
     },
     "execution_count": 60,
     "metadata": {},
     "output_type": "execute_result"
    }
   ],
   "source": [
    "page7 = requests.get('https://www.icc-cricket.com/rankings/mens/player-rankings/odi/bowling')\n",
    "page7 "
   ]
  },
  {
   "cell_type": "code",
   "execution_count": 61,
   "id": "dee413b1",
   "metadata": {},
   "outputs": [],
   "source": [
    "soup7 = BeautifulSoup(page7.content)"
   ]
  },
  {
   "cell_type": "code",
   "execution_count": 62,
   "id": "5634a055",
   "metadata": {},
   "outputs": [],
   "source": [
    "bowler = soup7.find_all(('div','td'), class_=('rankings-block__banner--name-large','table-body__cell rankings-table__name name'))"
   ]
  },
  {
   "cell_type": "code",
   "execution_count": 63,
   "id": "eddf6efe",
   "metadata": {},
   "outputs": [],
   "source": [
    "Bowler = []\n",
    "\n",
    "for i in bowler:\n",
    "    Bowler.append(i.text.replace('\\n',''))\n"
   ]
  },
  {
   "cell_type": "code",
   "execution_count": 64,
   "id": "c98d6f32",
   "metadata": {},
   "outputs": [],
   "source": [
    "team = soup7.find_all(('div','span'), class_=('rankings-block__banner--nationality','table-body__logo-text'))"
   ]
  },
  {
   "cell_type": "code",
   "execution_count": 65,
   "id": "7e225fdb",
   "metadata": {},
   "outputs": [],
   "source": [
    "B_Team = []\n",
    "\n",
    "for i in team:\n",
    "    B_Team.append(i.text.replace('\\n',''))\n",
    "    "
   ]
  },
  {
   "cell_type": "code",
   "execution_count": 66,
   "id": "6f2d4540",
   "metadata": {},
   "outputs": [],
   "source": [
    "rating = soup7.find_all(('div','td'), class_= ('rankings-block__banner--rating','table-body__cell rating'))"
   ]
  },
  {
   "cell_type": "code",
   "execution_count": 67,
   "id": "58b83128",
   "metadata": {},
   "outputs": [],
   "source": [
    "B_rating = []\n",
    "\n",
    "for i in rating:\n",
    "    B_rating.append(i.text.replace('\\n',''))\n",
    "    "
   ]
  },
  {
   "cell_type": "code",
   "execution_count": 68,
   "id": "782df5ca",
   "metadata": {},
   "outputs": [],
   "source": [
    "cbrating = soup7.find_all(('span','td'), class_= ('rankings-block__career-best-text','table-body__cell u-text-right u-hide-phablet'))\n"
   ]
  },
  {
   "cell_type": "code",
   "execution_count": 69,
   "id": "ef22d84c",
   "metadata": {},
   "outputs": [],
   "source": [
    "CB_Rating = []\n",
    "\n",
    "for i in cbrating:\n",
    "    CB_Rating.append(i.text.replace('\\n',''))\n",
    "    "
   ]
  },
  {
   "cell_type": "code",
   "execution_count": 70,
   "id": "1de38283",
   "metadata": {},
   "outputs": [
    {
     "data": {
      "text/html": [
       "<div>\n",
       "<style scoped>\n",
       "    .dataframe tbody tr th:only-of-type {\n",
       "        vertical-align: middle;\n",
       "    }\n",
       "\n",
       "    .dataframe tbody tr th {\n",
       "        vertical-align: top;\n",
       "    }\n",
       "\n",
       "    .dataframe thead th {\n",
       "        text-align: right;\n",
       "    }\n",
       "</style>\n",
       "<table border=\"1\" class=\"dataframe\">\n",
       "  <thead>\n",
       "    <tr style=\"text-align: right;\">\n",
       "      <th></th>\n",
       "      <th>Bowler</th>\n",
       "      <th>Team</th>\n",
       "      <th>Rating</th>\n",
       "      <th>CB_Rating</th>\n",
       "    </tr>\n",
       "    <tr>\n",
       "      <th>Position</th>\n",
       "      <th></th>\n",
       "      <th></th>\n",
       "      <th></th>\n",
       "      <th></th>\n",
       "    </tr>\n",
       "  </thead>\n",
       "  <tbody>\n",
       "    <tr>\n",
       "      <th>1</th>\n",
       "      <td>Trent Boult</td>\n",
       "      <td>NZ</td>\n",
       "      <td>726</td>\n",
       "      <td>770 v West Ind...</td>\n",
       "    </tr>\n",
       "    <tr>\n",
       "      <th>2</th>\n",
       "      <td>Matt Henry</td>\n",
       "      <td>NZ</td>\n",
       "      <td>683</td>\n",
       "      <td>691 v Banglade...</td>\n",
       "    </tr>\n",
       "    <tr>\n",
       "      <th>3</th>\n",
       "      <td>Shaheen Afridi</td>\n",
       "      <td>PAK</td>\n",
       "      <td>681</td>\n",
       "      <td>688 v West Ind...</td>\n",
       "    </tr>\n",
       "    <tr>\n",
       "      <th>4</th>\n",
       "      <td>Chris Woakes</td>\n",
       "      <td>ENG</td>\n",
       "      <td>680</td>\n",
       "      <td>711 v Sri Lank...</td>\n",
       "    </tr>\n",
       "    <tr>\n",
       "      <th>5</th>\n",
       "      <td>Jasprit Bumrah</td>\n",
       "      <td>IND</td>\n",
       "      <td>679</td>\n",
       "      <td>841 v West Ind...</td>\n",
       "    </tr>\n",
       "    <tr>\n",
       "      <th>6</th>\n",
       "      <td>Josh Hazlewood</td>\n",
       "      <td>AUS</td>\n",
       "      <td>679</td>\n",
       "      <td>733 v England,...</td>\n",
       "    </tr>\n",
       "    <tr>\n",
       "      <th>7</th>\n",
       "      <td>Mujeeb Ur Rahman</td>\n",
       "      <td>AFG</td>\n",
       "      <td>676</td>\n",
       "      <td>712 v Ireland,...</td>\n",
       "    </tr>\n",
       "    <tr>\n",
       "      <th>8</th>\n",
       "      <td>Mehedi Hasan</td>\n",
       "      <td>BAN</td>\n",
       "      <td>661</td>\n",
       "      <td>725 v Sri Lank...</td>\n",
       "    </tr>\n",
       "    <tr>\n",
       "      <th>9</th>\n",
       "      <td>Mohammad Nabi</td>\n",
       "      <td>AFG</td>\n",
       "      <td>657</td>\n",
       "      <td>657 v Zimbabwe...</td>\n",
       "    </tr>\n",
       "    <tr>\n",
       "      <th>10</th>\n",
       "      <td>Shakib Al Hasan</td>\n",
       "      <td>BAN</td>\n",
       "      <td>657</td>\n",
       "      <td>717 v Zimbabwe...</td>\n",
       "    </tr>\n",
       "  </tbody>\n",
       "</table>\n",
       "</div>"
      ],
      "text/plain": [
       "                    Bowler                    Team Rating  \\\n",
       "Position                                                    \n",
       "1              Trent Boult  NZ                        726   \n",
       "2               Matt Henry                      NZ    683   \n",
       "3           Shaheen Afridi                     PAK    681   \n",
       "4             Chris Woakes                     ENG    680   \n",
       "5           Jasprit Bumrah                     IND    679   \n",
       "6           Josh Hazlewood                     AUS    679   \n",
       "7         Mujeeb Ur Rahman                     AFG    676   \n",
       "8             Mehedi Hasan                     BAN    661   \n",
       "9            Mohammad Nabi                     AFG    657   \n",
       "10         Shakib Al Hasan                     BAN    657   \n",
       "\n",
       "                                                  CB_Rating  \n",
       "Position                                                     \n",
       "1                                         770 v West Ind...  \n",
       "2                                         691 v Banglade...  \n",
       "3                                         688 v West Ind...  \n",
       "4                                         711 v Sri Lank...  \n",
       "5                                         841 v West Ind...  \n",
       "6                                         733 v England,...  \n",
       "7                                         712 v Ireland,...  \n",
       "8                                         725 v Sri Lank...  \n",
       "9                                         657 v Zimbabwe...  \n",
       "10                                        717 v Zimbabwe...  "
      ]
     },
     "execution_count": 70,
     "metadata": {},
     "output_type": "execute_result"
    }
   ],
   "source": [
    "# Making DataFrame \n",
    "\n",
    "df7=pd.DataFrame({'Bowler':Bowler,'Team':B_Team,'Rating':B_rating,'CB_Rating':CB_Rating})\n",
    "\n",
    "df7.index=df7.index+1 \n",
    "df7.index.name=\"Position\"\n",
    "\n",
    "df7.head(10)\n",
    "\n",
    "#-------------------------------OR----------------------------#\n",
    "\n",
    "# Another way of Making DataFrame\n",
    "\n",
    "# Top_10_ODI_bowlers = pd.DataFrame({})\n",
    "\n",
    "# Top_10_ODI_bowlers['Bowler']=Bowler[0:10]\n",
    "# Top_10_ODI_bowlers['Team']=B_Team[0:10]\n",
    "# Top_10_ODI_bowlers['Rating']=B_rating[0:10]\n",
    "# Top_10_ODI_bowlers['CB_Rating']=CB_Rating[0:10]\n",
    "\n",
    "# Top_10_ODI_bowlers"
   ]
  },
  {
   "cell_type": "markdown",
   "id": "a62aa7a3",
   "metadata": {},
   "source": [
    "### <font color='red'>6) Write a python program to scrape cricket rankings from icc-cricket.com. You have to scrape:</font>\n",
    "\n",
    "### <font color='red'>a) Top 10 ODI teams in women’s cricket along with the records for matches, points and rating.</font>\n",
    "\n",
    "### <font color='red'>b) Top 10 women’s ODI Batting players along with the records of their team and rating.</font>\n",
    "\n",
    "### <font color='red'>c) Top 10 women’s ODI all-rounder along with the records of their team and rating.</font>"
   ]
  },
  {
   "cell_type": "code",
   "execution_count": null,
   "id": "dd2dd1a0",
   "metadata": {},
   "outputs": [],
   "source": []
  },
  {
   "cell_type": "markdown",
   "id": "c5c22e6b",
   "metadata": {},
   "source": [
    "#### <font color='red'>a) Top 10 ODI teams in women’s cricket along with the records for matches, points and rating.</font>"
   ]
  },
  {
   "cell_type": "code",
   "execution_count": 71,
   "id": "449b9c89",
   "metadata": {},
   "outputs": [
    {
     "data": {
      "text/plain": [
       "<Response [200]>"
      ]
     },
     "execution_count": 71,
     "metadata": {},
     "output_type": "execute_result"
    }
   ],
   "source": [
    "page8= requests.get('https://www.icc-cricket.com/rankings/womens/team-rankings/odi')\n",
    "page8"
   ]
  },
  {
   "cell_type": "code",
   "execution_count": 72,
   "id": "16a4537e",
   "metadata": {},
   "outputs": [],
   "source": [
    "soup8=BeautifulSoup(page8.content)"
   ]
  },
  {
   "cell_type": "code",
   "execution_count": 73,
   "id": "8a152f68",
   "metadata": {},
   "outputs": [],
   "source": [
    "team = soup8.find_all('span', class_='u-hide-phablet')"
   ]
  },
  {
   "cell_type": "code",
   "execution_count": 74,
   "id": "1073b4fe",
   "metadata": {},
   "outputs": [],
   "source": [
    "Team_Name = []\n",
    "\n",
    "for i in team:\n",
    "    Team_Name.append(i.text)\n",
    "    \n",
    "Team_Name = Team_Name[0:10]\n"
   ]
  },
  {
   "cell_type": "code",
   "execution_count": 75,
   "id": "5e10b655",
   "metadata": {},
   "outputs": [],
   "source": [
    "matches = soup8.find_all('td', class_ = ('table-body__cell u-center-text','rankings-block__banner--matches','rankings-block__banner--points'))"
   ]
  },
  {
   "cell_type": "code",
   "execution_count": 76,
   "id": "f0266da8",
   "metadata": {},
   "outputs": [],
   "source": [
    "Matches = []\n",
    "\n",
    "for i in matches:\n",
    "    Matches.append(i.text)\n",
    "    "
   ]
  },
  {
   "cell_type": "code",
   "execution_count": 77,
   "id": "a1b10226",
   "metadata": {},
   "outputs": [
    {
     "data": {
      "text/plain": [
       "22"
      ]
     },
     "execution_count": 77,
     "metadata": {},
     "output_type": "execute_result"
    }
   ],
   "source": [
    "len(Matches)"
   ]
  },
  {
   "cell_type": "code",
   "execution_count": 78,
   "id": "0d7f5110",
   "metadata": {},
   "outputs": [],
   "source": [
    "MATCHES = Matches[0:20:2]"
   ]
  },
  {
   "cell_type": "code",
   "execution_count": 79,
   "id": "edb21691",
   "metadata": {},
   "outputs": [
    {
     "data": {
      "text/plain": [
       "10"
      ]
     },
     "execution_count": 79,
     "metadata": {},
     "output_type": "execute_result"
    }
   ],
   "source": [
    "len(MATCHES)"
   ]
  },
  {
   "cell_type": "code",
   "execution_count": 80,
   "id": "4d3402e7",
   "metadata": {},
   "outputs": [],
   "source": [
    "Points = Matches[1:20:2]"
   ]
  },
  {
   "cell_type": "code",
   "execution_count": 81,
   "id": "cdff633c",
   "metadata": {},
   "outputs": [
    {
     "data": {
      "text/plain": [
       "10"
      ]
     },
     "execution_count": 81,
     "metadata": {},
     "output_type": "execute_result"
    }
   ],
   "source": [
    "len(Points)"
   ]
  },
  {
   "cell_type": "code",
   "execution_count": 82,
   "id": "72f86e1c",
   "metadata": {},
   "outputs": [],
   "source": [
    "rating= soup8.find_all('td',class_=('rankings-block__banner--rating u-text-right','table-body__cell u-text-right rating'))"
   ]
  },
  {
   "cell_type": "code",
   "execution_count": 83,
   "id": "4b99a1da",
   "metadata": {},
   "outputs": [],
   "source": [
    "Rating = []\n",
    "\n",
    "for i in rating:\n",
    "    Rating.append(i.text.replace('\\n',''))\n",
    "    "
   ]
  },
  {
   "cell_type": "code",
   "execution_count": 84,
   "id": "79e3e2db",
   "metadata": {},
   "outputs": [
    {
     "data": {
      "text/plain": [
       "11"
      ]
     },
     "execution_count": 84,
     "metadata": {},
     "output_type": "execute_result"
    }
   ],
   "source": [
    "len(Rating)"
   ]
  },
  {
   "cell_type": "code",
   "execution_count": 85,
   "id": "b94e0ae9",
   "metadata": {},
   "outputs": [],
   "source": [
    "RATING = Rating[0:10]"
   ]
  },
  {
   "cell_type": "code",
   "execution_count": 86,
   "id": "a37703f6",
   "metadata": {},
   "outputs": [
    {
     "data": {
      "text/plain": [
       "10"
      ]
     },
     "execution_count": 86,
     "metadata": {},
     "output_type": "execute_result"
    }
   ],
   "source": [
    "len(RATING)"
   ]
  },
  {
   "cell_type": "code",
   "execution_count": 87,
   "id": "2fe869ad",
   "metadata": {},
   "outputs": [
    {
     "data": {
      "text/html": [
       "<div>\n",
       "<style scoped>\n",
       "    .dataframe tbody tr th:only-of-type {\n",
       "        vertical-align: middle;\n",
       "    }\n",
       "\n",
       "    .dataframe tbody tr th {\n",
       "        vertical-align: top;\n",
       "    }\n",
       "\n",
       "    .dataframe thead th {\n",
       "        text-align: right;\n",
       "    }\n",
       "</style>\n",
       "<table border=\"1\" class=\"dataframe\">\n",
       "  <thead>\n",
       "    <tr style=\"text-align: right;\">\n",
       "      <th></th>\n",
       "      <th>Team</th>\n",
       "      <th>Matches</th>\n",
       "      <th>Point</th>\n",
       "      <th>Rating</th>\n",
       "    </tr>\n",
       "    <tr>\n",
       "      <th>Position</th>\n",
       "      <th></th>\n",
       "      <th></th>\n",
       "      <th></th>\n",
       "      <th></th>\n",
       "    </tr>\n",
       "  </thead>\n",
       "  <tbody>\n",
       "    <tr>\n",
       "      <th>1</th>\n",
       "      <td>Australia</td>\n",
       "      <td>29</td>\n",
       "      <td>4,837</td>\n",
       "      <td>167               ...</td>\n",
       "    </tr>\n",
       "    <tr>\n",
       "      <th>2</th>\n",
       "      <td>South Africa</td>\n",
       "      <td>32</td>\n",
       "      <td>3,949</td>\n",
       "      <td>123</td>\n",
       "    </tr>\n",
       "    <tr>\n",
       "      <th>3</th>\n",
       "      <td>England</td>\n",
       "      <td>30</td>\n",
       "      <td>3,531</td>\n",
       "      <td>118</td>\n",
       "    </tr>\n",
       "    <tr>\n",
       "      <th>4</th>\n",
       "      <td>India</td>\n",
       "      <td>29</td>\n",
       "      <td>2,889</td>\n",
       "      <td>100</td>\n",
       "    </tr>\n",
       "    <tr>\n",
       "      <th>5</th>\n",
       "      <td>New Zealand</td>\n",
       "      <td>31</td>\n",
       "      <td>3,019</td>\n",
       "      <td>97</td>\n",
       "    </tr>\n",
       "    <tr>\n",
       "      <th>6</th>\n",
       "      <td>West Indies</td>\n",
       "      <td>30</td>\n",
       "      <td>2,768</td>\n",
       "      <td>92</td>\n",
       "    </tr>\n",
       "    <tr>\n",
       "      <th>7</th>\n",
       "      <td>Bangladesh</td>\n",
       "      <td>12</td>\n",
       "      <td>930</td>\n",
       "      <td>78</td>\n",
       "    </tr>\n",
       "    <tr>\n",
       "      <th>8</th>\n",
       "      <td>Pakistan</td>\n",
       "      <td>30</td>\n",
       "      <td>1,962</td>\n",
       "      <td>65</td>\n",
       "    </tr>\n",
       "    <tr>\n",
       "      <th>9</th>\n",
       "      <td>Sri Lanka</td>\n",
       "      <td>8</td>\n",
       "      <td>384</td>\n",
       "      <td>48</td>\n",
       "    </tr>\n",
       "    <tr>\n",
       "      <th>10</th>\n",
       "      <td>Ireland</td>\n",
       "      <td>8</td>\n",
       "      <td>351</td>\n",
       "      <td>44</td>\n",
       "    </tr>\n",
       "  </tbody>\n",
       "</table>\n",
       "</div>"
      ],
      "text/plain": [
       "                  Team Matches  Point  \\\n",
       "Position                                \n",
       "1            Australia      29  4,837   \n",
       "2         South Africa      32  3,949   \n",
       "3              England      30  3,531   \n",
       "4                India      29  2,889   \n",
       "5          New Zealand      31  3,019   \n",
       "6          West Indies      30  2,768   \n",
       "7           Bangladesh      12    930   \n",
       "8             Pakistan      30  1,962   \n",
       "9            Sri Lanka       8    384   \n",
       "10             Ireland       8    351   \n",
       "\n",
       "                                                     Rating  \n",
       "Position                                                     \n",
       "1                                     167               ...  \n",
       "2                                                       123  \n",
       "3                                                       118  \n",
       "4                                                       100  \n",
       "5                                                        97  \n",
       "6                                                        92  \n",
       "7                                                        78  \n",
       "8                                                        65  \n",
       "9                                                        48  \n",
       "10                                                       44  "
      ]
     },
     "execution_count": 87,
     "metadata": {},
     "output_type": "execute_result"
    }
   ],
   "source": [
    "# Making DataFrame \n",
    "\n",
    "df8=pd.DataFrame({'Team':Team_Name,'Matches':MATCHES,'Point':Points,'Rating':RATING})\n",
    "\n",
    "df8.index=df8.index+1\n",
    "df8.index.name=\"Position\"\n",
    "\n",
    "df8.head(10)\n",
    "\n",
    "#-------------------------------OR----------------------------#\n",
    "\n",
    "# Another way of Making DataFrame\n",
    "\n",
    "# Top_10_team = pd.DataFrame({})\n",
    "\n",
    "# Top_10_team['Team']=Team_Name\n",
    "# Top_10_team['Matches']=MATCHES\n",
    "# Top_10_team['Point']=Points\n",
    "# Top_10_team['Rating']=RATING\n",
    "\n",
    "# Top_10_team\n"
   ]
  },
  {
   "cell_type": "markdown",
   "id": "4cbbba2f",
   "metadata": {},
   "source": [
    "#### <font color='red'>b) Top 10 women’s ODI Batting players along with the records of their team and rating.</font>"
   ]
  },
  {
   "cell_type": "code",
   "execution_count": 88,
   "id": "69d2eb8a",
   "metadata": {},
   "outputs": [
    {
     "data": {
      "text/plain": [
       "<Response [200]>"
      ]
     },
     "execution_count": 88,
     "metadata": {},
     "output_type": "execute_result"
    }
   ],
   "source": [
    "page9 = requests.get('https://www.icc-cricket.com/rankings/womens/player-rankings/odi/batting')\n",
    "page9"
   ]
  },
  {
   "cell_type": "code",
   "execution_count": 89,
   "id": "e53eb7b7",
   "metadata": {},
   "outputs": [],
   "source": [
    "soup9=BeautifulSoup(page9.content)"
   ]
  },
  {
   "cell_type": "code",
   "execution_count": 90,
   "id": "4317fdac",
   "metadata": {},
   "outputs": [],
   "source": [
    "pname = soup9.find_all(('div','td'), class_=('rankings-block__banner--name-large','table-body__cell rankings-table__name name'))"
   ]
  },
  {
   "cell_type": "code",
   "execution_count": 91,
   "id": "89f59877",
   "metadata": {},
   "outputs": [],
   "source": [
    "Player = []\n",
    "\n",
    "for i in pname:\n",
    "    Player.append(i.text.replace('\\n',''))\n",
    "    \n",
    "Player = Player[0:10]\n"
   ]
  },
  {
   "cell_type": "code",
   "execution_count": 92,
   "id": "b13a95d1",
   "metadata": {},
   "outputs": [],
   "source": [
    "team = soup9.find_all(('div','span'), class_=('rankings-block__banner--nationality','table-body__logo-text'))"
   ]
  },
  {
   "cell_type": "code",
   "execution_count": 93,
   "id": "70b4ef98",
   "metadata": {},
   "outputs": [],
   "source": [
    "Team = []\n",
    "\n",
    "for i in team:\n",
    "    Team.append(i.text.replace('\\n',''))\n",
    "    \n",
    "Team = Team[0:10]\n"
   ]
  },
  {
   "cell_type": "code",
   "execution_count": 94,
   "id": "3fd4bf28",
   "metadata": {},
   "outputs": [],
   "source": [
    "rating = soup9.find_all(('div','td'), class_= ('rankings-block__banner--rating','table-body__cell rating'))"
   ]
  },
  {
   "cell_type": "code",
   "execution_count": 95,
   "id": "0767d7b2",
   "metadata": {},
   "outputs": [],
   "source": [
    "Rating = []\n",
    "\n",
    "for i in rating:\n",
    "    Rating.append(i.text)\n",
    "    \n",
    "Rating = Rating[0:10]\n"
   ]
  },
  {
   "cell_type": "code",
   "execution_count": 96,
   "id": "c1b601a5",
   "metadata": {},
   "outputs": [
    {
     "data": {
      "text/html": [
       "<div>\n",
       "<style scoped>\n",
       "    .dataframe tbody tr th:only-of-type {\n",
       "        vertical-align: middle;\n",
       "    }\n",
       "\n",
       "    .dataframe tbody tr th {\n",
       "        vertical-align: top;\n",
       "    }\n",
       "\n",
       "    .dataframe thead th {\n",
       "        text-align: right;\n",
       "    }\n",
       "</style>\n",
       "<table border=\"1\" class=\"dataframe\">\n",
       "  <thead>\n",
       "    <tr style=\"text-align: right;\">\n",
       "      <th></th>\n",
       "      <th>Player</th>\n",
       "      <th>Team</th>\n",
       "      <th>Rating</th>\n",
       "    </tr>\n",
       "    <tr>\n",
       "      <th>Position</th>\n",
       "      <th></th>\n",
       "      <th></th>\n",
       "      <th></th>\n",
       "    </tr>\n",
       "  </thead>\n",
       "  <tbody>\n",
       "    <tr>\n",
       "      <th>1</th>\n",
       "      <td>Alyssa Healy</td>\n",
       "      <td>AUS</td>\n",
       "      <td>785</td>\n",
       "    </tr>\n",
       "    <tr>\n",
       "      <th>2</th>\n",
       "      <td>Natalie Sciver</td>\n",
       "      <td>ENG</td>\n",
       "      <td>750</td>\n",
       "    </tr>\n",
       "    <tr>\n",
       "      <th>3</th>\n",
       "      <td>Beth Mooney</td>\n",
       "      <td>AUS</td>\n",
       "      <td>748</td>\n",
       "    </tr>\n",
       "    <tr>\n",
       "      <th>4</th>\n",
       "      <td>Laura Wolvaardt</td>\n",
       "      <td>SA</td>\n",
       "      <td>713</td>\n",
       "    </tr>\n",
       "    <tr>\n",
       "      <th>5</th>\n",
       "      <td>Meg Lanning</td>\n",
       "      <td>AUS</td>\n",
       "      <td>710</td>\n",
       "    </tr>\n",
       "    <tr>\n",
       "      <th>6</th>\n",
       "      <td>Rachael Haynes</td>\n",
       "      <td>AUS</td>\n",
       "      <td>701</td>\n",
       "    </tr>\n",
       "    <tr>\n",
       "      <th>7</th>\n",
       "      <td>Amy Satterthwaite</td>\n",
       "      <td>NZ</td>\n",
       "      <td>681</td>\n",
       "    </tr>\n",
       "    <tr>\n",
       "      <th>8</th>\n",
       "      <td>Smriti Mandhana</td>\n",
       "      <td>IND</td>\n",
       "      <td>669</td>\n",
       "    </tr>\n",
       "    <tr>\n",
       "      <th>9</th>\n",
       "      <td>Tammy Beaumont</td>\n",
       "      <td>ENG</td>\n",
       "      <td>659</td>\n",
       "    </tr>\n",
       "    <tr>\n",
       "      <th>10</th>\n",
       "      <td>Ellyse Perry</td>\n",
       "      <td>AUS</td>\n",
       "      <td>642</td>\n",
       "    </tr>\n",
       "  </tbody>\n",
       "</table>\n",
       "</div>"
      ],
      "text/plain": [
       "                     Player                     Team Rating\n",
       "Position                                                   \n",
       "1              Alyssa Healy  AUS                        785\n",
       "2            Natalie Sciver                      ENG    750\n",
       "3               Beth Mooney                      AUS    748\n",
       "4           Laura Wolvaardt                       SA    713\n",
       "5               Meg Lanning                      AUS    710\n",
       "6            Rachael Haynes                      AUS    701\n",
       "7         Amy Satterthwaite                       NZ    681\n",
       "8           Smriti Mandhana                      IND    669\n",
       "9            Tammy Beaumont                      ENG    659\n",
       "10             Ellyse Perry                      AUS    642"
      ]
     },
     "execution_count": 96,
     "metadata": {},
     "output_type": "execute_result"
    }
   ],
   "source": [
    "# Making DataFrame \n",
    "\n",
    "df9=pd.DataFrame({'Player':Player,'Team':Team,'Rating':Rating})\n",
    "\n",
    "df9.index=df9.index+1\n",
    "df9.index.name=\"Position\"\n",
    "\n",
    "df9.head(10)\n",
    "\n",
    "#-------------------------------OR----------------------------#\n",
    "\n",
    "# Another way of Making DataFrame\n",
    "\n",
    "# Top_10_ODI_women_batsman = pd.DataFrame({})\n",
    "\n",
    "# Top_10_ODI_women_batsman['Player']=Player\n",
    "# Top_10_ODI_women_batsman['Team']=Team\n",
    "# Top_10_ODI_women_batsman['Rating']=Rating\n",
    "\n",
    "# Top_10_ODI_women_batsman"
   ]
  },
  {
   "cell_type": "markdown",
   "id": "1769a4a6",
   "metadata": {},
   "source": [
    "#### <font color='red'>c) Top 10 women’s ODI all-rounder along with the records of their team and rating.</font>"
   ]
  },
  {
   "cell_type": "code",
   "execution_count": 97,
   "id": "646d42f3",
   "metadata": {},
   "outputs": [
    {
     "data": {
      "text/plain": [
       "<Response [200]>"
      ]
     },
     "execution_count": 97,
     "metadata": {},
     "output_type": "execute_result"
    }
   ],
   "source": [
    "page10 = requests.get('https://www.icc-cricket.com/rankings/womens/player-rankings/odi/all-rounder')\n",
    "page10"
   ]
  },
  {
   "cell_type": "code",
   "execution_count": 98,
   "id": "6681b432",
   "metadata": {},
   "outputs": [],
   "source": [
    "soup10=BeautifulSoup(page10.content)"
   ]
  },
  {
   "cell_type": "code",
   "execution_count": 99,
   "id": "531e15b1",
   "metadata": {},
   "outputs": [],
   "source": [
    "alplayer = soup10.find_all(('div','td'), class_=('rankings-block__banner--name-large','table-body__cell rankings-table__name name'))"
   ]
  },
  {
   "cell_type": "code",
   "execution_count": 100,
   "id": "ec427bed",
   "metadata": {},
   "outputs": [],
   "source": [
    "AL_Player = []\n",
    "\n",
    "for i in alplayer:\n",
    "    AL_Player.append(i.text.replace('\\n',''))\n",
    "    \n",
    "AL_Player = AL_Player[0:10]\n"
   ]
  },
  {
   "cell_type": "code",
   "execution_count": 101,
   "id": "51d73410",
   "metadata": {},
   "outputs": [],
   "source": [
    "alteam = soup10.find_all(('div','span'), class_=('rankings-block__banner--nationality','table-body__logo-text'))"
   ]
  },
  {
   "cell_type": "code",
   "execution_count": 102,
   "id": "6285b9f8",
   "metadata": {},
   "outputs": [],
   "source": [
    "AL_team = []\n",
    "\n",
    "for i in alteam:\n",
    "    AL_team.append(i.text.replace('\\n',''))\n",
    "    \n",
    "AL_team = AL_team[0:10]\n"
   ]
  },
  {
   "cell_type": "code",
   "execution_count": 103,
   "id": "584f312a",
   "metadata": {},
   "outputs": [],
   "source": [
    "alrating = soup10.find_all(('div','td'),class_=('rankings-block__banner--rating','table-body__cell rating'))"
   ]
  },
  {
   "cell_type": "code",
   "execution_count": 104,
   "id": "12549a11",
   "metadata": {},
   "outputs": [],
   "source": [
    "AL_rating = []\n",
    "\n",
    "for i in alrating:\n",
    "    AL_rating.append(i.text)\n",
    "    \n",
    "AL_rating = AL_rating[0:10]\n"
   ]
  },
  {
   "cell_type": "code",
   "execution_count": 105,
   "id": "7daaddf3",
   "metadata": {},
   "outputs": [],
   "source": [
    "# CB rating = Career best rating\n",
    "\n",
    "cbrating = soup10.find_all(('span','td'),class_=('rankings-block__career-best-text','table-body__cell u-text-right u-hide-phablet'))\n"
   ]
  },
  {
   "cell_type": "code",
   "execution_count": 106,
   "id": "c931594b",
   "metadata": {},
   "outputs": [],
   "source": [
    "CB_Rating = []\n",
    "\n",
    "for i in cbrating:\n",
    "    CB_Rating.append(i.text.replace('\\n',''))\n",
    "    \n",
    "CB_Rating = CB_Rating[0:10]\n"
   ]
  },
  {
   "cell_type": "code",
   "execution_count": 107,
   "id": "55d62307",
   "metadata": {},
   "outputs": [
    {
     "data": {
      "text/html": [
       "<div>\n",
       "<style scoped>\n",
       "    .dataframe tbody tr th:only-of-type {\n",
       "        vertical-align: middle;\n",
       "    }\n",
       "\n",
       "    .dataframe tbody tr th {\n",
       "        vertical-align: top;\n",
       "    }\n",
       "\n",
       "    .dataframe thead th {\n",
       "        text-align: right;\n",
       "    }\n",
       "</style>\n",
       "<table border=\"1\" class=\"dataframe\">\n",
       "  <thead>\n",
       "    <tr style=\"text-align: right;\">\n",
       "      <th></th>\n",
       "      <th>Player</th>\n",
       "      <th>Team</th>\n",
       "      <th>Rating</th>\n",
       "      <th>CB_Rating</th>\n",
       "    </tr>\n",
       "    <tr>\n",
       "      <th>Position</th>\n",
       "      <th></th>\n",
       "      <th></th>\n",
       "      <th></th>\n",
       "      <th></th>\n",
       "    </tr>\n",
       "  </thead>\n",
       "  <tbody>\n",
       "    <tr>\n",
       "      <th>1</th>\n",
       "      <td>Natalie Sciver</td>\n",
       "      <td>ENG</td>\n",
       "      <td>393</td>\n",
       "      <td>393 v Australi...</td>\n",
       "    </tr>\n",
       "    <tr>\n",
       "      <th>2</th>\n",
       "      <td>Ellyse Perry</td>\n",
       "      <td>AUS</td>\n",
       "      <td>374</td>\n",
       "      <td>548 v West Ind...</td>\n",
       "    </tr>\n",
       "    <tr>\n",
       "      <th>3</th>\n",
       "      <td>Hayley Matthews</td>\n",
       "      <td>WI</td>\n",
       "      <td>338</td>\n",
       "      <td>365 v India, 1...</td>\n",
       "    </tr>\n",
       "    <tr>\n",
       "      <th>4</th>\n",
       "      <td>Marizanne Kapp</td>\n",
       "      <td>SA</td>\n",
       "      <td>338</td>\n",
       "      <td>419 v West Ind...</td>\n",
       "    </tr>\n",
       "    <tr>\n",
       "      <th>5</th>\n",
       "      <td>Amelia Kerr</td>\n",
       "      <td>NZ</td>\n",
       "      <td>335</td>\n",
       "      <td>339 v South Af...</td>\n",
       "    </tr>\n",
       "    <tr>\n",
       "      <th>6</th>\n",
       "      <td>Ashleigh Gardner</td>\n",
       "      <td>AUS</td>\n",
       "      <td>269</td>\n",
       "      <td>279 v West Ind...</td>\n",
       "    </tr>\n",
       "    <tr>\n",
       "      <th>7</th>\n",
       "      <td>Deepti Sharma</td>\n",
       "      <td>IND</td>\n",
       "      <td>249</td>\n",
       "      <td>397 v South Af...</td>\n",
       "    </tr>\n",
       "    <tr>\n",
       "      <th>8</th>\n",
       "      <td>Jess Jonassen</td>\n",
       "      <td>AUS</td>\n",
       "      <td>245</td>\n",
       "      <td>308 v West Ind...</td>\n",
       "    </tr>\n",
       "    <tr>\n",
       "      <th>9</th>\n",
       "      <td>Sune Luus</td>\n",
       "      <td>SA</td>\n",
       "      <td>223</td>\n",
       "      <td>223 v Ireland,...</td>\n",
       "    </tr>\n",
       "    <tr>\n",
       "      <th>10</th>\n",
       "      <td>Katherine Brunt</td>\n",
       "      <td>ENG</td>\n",
       "      <td>221</td>\n",
       "      <td>296 v Australi...</td>\n",
       "    </tr>\n",
       "  </tbody>\n",
       "</table>\n",
       "</div>"
      ],
      "text/plain": [
       "                    Player                     Team Rating  \\\n",
       "Position                                                     \n",
       "1           Natalie Sciver  ENG                        393   \n",
       "2             Ellyse Perry                      AUS    374   \n",
       "3          Hayley Matthews                       WI    338   \n",
       "4           Marizanne Kapp                       SA    338   \n",
       "5              Amelia Kerr                       NZ    335   \n",
       "6         Ashleigh Gardner                      AUS    269   \n",
       "7            Deepti Sharma                      IND    249   \n",
       "8            Jess Jonassen                      AUS    245   \n",
       "9                Sune Luus                       SA    223   \n",
       "10         Katherine Brunt                      ENG    221   \n",
       "\n",
       "                                                  CB_Rating  \n",
       "Position                                                     \n",
       "1                                         393 v Australi...  \n",
       "2                                         548 v West Ind...  \n",
       "3                                         365 v India, 1...  \n",
       "4                                         419 v West Ind...  \n",
       "5                                         339 v South Af...  \n",
       "6                                         279 v West Ind...  \n",
       "7                                         397 v South Af...  \n",
       "8                                         308 v West Ind...  \n",
       "9                                         223 v Ireland,...  \n",
       "10                                        296 v Australi...  "
      ]
     },
     "execution_count": 107,
     "metadata": {},
     "output_type": "execute_result"
    }
   ],
   "source": [
    "# Making DataFrame \n",
    "\n",
    "df10=pd.DataFrame({'Player':AL_Player,'Team':AL_team,'Rating':AL_rating,'CB_Rating':CB_Rating})\n",
    "\n",
    "df10.index=df10.index+1\n",
    "df10.index.name=\"Position\"\n",
    "\n",
    "df10.head(10)\n",
    "\n",
    "#-------------------------------OR----------------------------#\n",
    "\n",
    "# Another way of Making DataFrame\n",
    "\n",
    "# top10_allrounder =pd.DataFrame({})\n",
    "\n",
    "# top10_allrounder['Player']=AL_Player\n",
    "# top10_allrounder['Team']=AL_team\n",
    "# top10_allrounder['Rating']=AL_rating\n",
    "# top10_allrounder['CB_Rating']=CB_Rating\n",
    "\n",
    "# top10_allrounder"
   ]
  },
  {
   "cell_type": "markdown",
   "id": "8f072336",
   "metadata": {},
   "source": [
    "### <font color='red'>7) Write a python program to scrape mentioned news details from : https://www.cnbc.com/world/region=world</font>\n",
    "\n",
    "### <font color='red'>i) Headline</font>\n",
    "\n",
    "### <font color='red'>ii) Time</font>\n",
    "\n",
    "### <font color='red'>iii) News Link</font>"
   ]
  },
  {
   "cell_type": "code",
   "execution_count": 108,
   "id": "86c7ac97",
   "metadata": {},
   "outputs": [
    {
     "data": {
      "text/plain": [
       "<Response [200]>"
      ]
     },
     "execution_count": 108,
     "metadata": {},
     "output_type": "execute_result"
    }
   ],
   "source": [
    "page11 = requests.get('https://www.cnbc.com/world/?region=world')\n",
    "page11"
   ]
  },
  {
   "cell_type": "code",
   "execution_count": 109,
   "id": "b364f275",
   "metadata": {},
   "outputs": [],
   "source": [
    "soup11 = BeautifulSoup(page11.content)"
   ]
  },
  {
   "cell_type": "markdown",
   "id": "cf142b88",
   "metadata": {},
   "source": [
    "#### <font color='red'>i) Headline</font>\n"
   ]
  },
  {
   "cell_type": "code",
   "execution_count": 110,
   "id": "79616151",
   "metadata": {},
   "outputs": [],
   "source": [
    "# Headline\n",
    "\n",
    "news_headline = []\n",
    "\n",
    "for i in soup11.find_all(\"a\", class_='LatestNews-headline'):\n",
    "    news_headline.append(i.text)\n",
    "    "
   ]
  },
  {
   "cell_type": "markdown",
   "id": "6ff7bbb4",
   "metadata": {},
   "source": [
    "#### <font color='red'>ii) Time</font>\n"
   ]
  },
  {
   "cell_type": "code",
   "execution_count": 111,
   "id": "ff47c6b2",
   "metadata": {},
   "outputs": [],
   "source": [
    "# Time\n",
    "\n",
    "news_time = []\n",
    "\n",
    "for i in soup11.find_all(\"span\",class_=\"LatestNews-wrapper\"):\n",
    "    news_time.append(i.text)\n",
    "    "
   ]
  },
  {
   "cell_type": "markdown",
   "id": "55a49a2e",
   "metadata": {},
   "source": [
    "#### <font color='red'>iii) News Link</font>"
   ]
  },
  {
   "cell_type": "code",
   "execution_count": 112,
   "id": "fd85c31e",
   "metadata": {},
   "outputs": [],
   "source": [
    "# News link\n",
    "\n",
    "news_link = []\n",
    "\n",
    "for i in soup11.find_all(\"a\", class_='LatestNews-headline'):\n",
    "    news_link.append(i.get('href'))\n",
    "    "
   ]
  },
  {
   "cell_type": "code",
   "execution_count": 113,
   "id": "632fff12",
   "metadata": {},
   "outputs": [
    {
     "data": {
      "text/html": [
       "<div>\n",
       "<style scoped>\n",
       "    .dataframe tbody tr th:only-of-type {\n",
       "        vertical-align: middle;\n",
       "    }\n",
       "\n",
       "    .dataframe tbody tr th {\n",
       "        vertical-align: top;\n",
       "    }\n",
       "\n",
       "    .dataframe thead th {\n",
       "        text-align: right;\n",
       "    }\n",
       "</style>\n",
       "<table border=\"1\" class=\"dataframe\">\n",
       "  <thead>\n",
       "    <tr style=\"text-align: right;\">\n",
       "      <th></th>\n",
       "      <th>Headline</th>\n",
       "      <th>Time</th>\n",
       "      <th>News link</th>\n",
       "    </tr>\n",
       "  </thead>\n",
       "  <tbody>\n",
       "    <tr>\n",
       "      <th>1</th>\n",
       "      <td>In China, more and more people want to save mo...</td>\n",
       "      <td>42 Min Ago</td>\n",
       "      <td>https://www.cnbc.com/2022/06/30/pboc-chinese-p...</td>\n",
       "    </tr>\n",
       "    <tr>\n",
       "      <th>2</th>\n",
       "      <td>Coinbase seeks licenses in Europe as it looks ...</td>\n",
       "      <td>1 Hour Ago</td>\n",
       "      <td>https://www.cnbc.com/2022/06/30/coinbase-seeks...</td>\n",
       "    </tr>\n",
       "    <tr>\n",
       "      <th>3</th>\n",
       "      <td>Here's what's hot — and what's not — in fintec...</td>\n",
       "      <td>1 Hour Ago</td>\n",
       "      <td>https://www.cnbc.com/2022/06/30/heres-whats-ho...</td>\n",
       "    </tr>\n",
       "    <tr>\n",
       "      <th>4</th>\n",
       "      <td>European markets set to continue declines as r...</td>\n",
       "      <td>2 Hours Ago</td>\n",
       "      <td>https://www.cnbc.com/2022/06/30/european-marke...</td>\n",
       "    </tr>\n",
       "    <tr>\n",
       "      <th>5</th>\n",
       "      <td>Grayscale sues SEC after rejection of bid to t...</td>\n",
       "      <td>3 Hours Ago</td>\n",
       "      <td>https://www.cnbc.com/2022/06/30/grayscale-sues...</td>\n",
       "    </tr>\n",
       "    <tr>\n",
       "      <th>6</th>\n",
       "      <td>China continues to snap up Russian coal at ste...</td>\n",
       "      <td>5 Hours Ago</td>\n",
       "      <td>https://www.cnbc.com/2022/06/30/china-snaps-up...</td>\n",
       "    </tr>\n",
       "    <tr>\n",
       "      <th>7</th>\n",
       "      <td>Goldman says buy these global stocks to play a...</td>\n",
       "      <td>6 Hours Ago</td>\n",
       "      <td>https://www.cnbc.com/2022/06/30/electric-vehic...</td>\n",
       "    </tr>\n",
       "    <tr>\n",
       "      <th>8</th>\n",
       "      <td>China Shenzhen stocks rise as data shows facto...</td>\n",
       "      <td>7 Hours Ago</td>\n",
       "      <td>https://www.cnbc.com/2022/06/30/asia-markets-c...</td>\n",
       "    </tr>\n",
       "    <tr>\n",
       "      <th>9</th>\n",
       "      <td>Cramer's lightning round: I prefer Deere over ...</td>\n",
       "      <td>7 Hours Ago</td>\n",
       "      <td>https://www.cnbc.com/2022/06/29/cramers-lightn...</td>\n",
       "    </tr>\n",
       "    <tr>\n",
       "      <th>10</th>\n",
       "      <td>Cramer warns investors not to group all stocks...</td>\n",
       "      <td>7 Hours Ago</td>\n",
       "      <td>https://www.cnbc.com/2022/06/29/cramer-warns-i...</td>\n",
       "    </tr>\n",
       "    <tr>\n",
       "      <th>11</th>\n",
       "      <td>Cramer: Charts suggest the recent commodities ...</td>\n",
       "      <td>7 Hours Ago</td>\n",
       "      <td>https://www.cnbc.com/2022/06/29/cramer-charts-...</td>\n",
       "    </tr>\n",
       "    <tr>\n",
       "      <th>12</th>\n",
       "      <td>Palantir CEO Alex Karp on fighting with Peter ...</td>\n",
       "      <td>7 Hours Ago</td>\n",
       "      <td>https://www.cnbc.com/2022/06/29/palantir-ceo-k...</td>\n",
       "    </tr>\n",
       "    <tr>\n",
       "      <th>13</th>\n",
       "      <td>Spirit delays merger shareholder vote before m...</td>\n",
       "      <td>8 Hours Ago</td>\n",
       "      <td>https://www.cnbc.com/2022/06/29/spirit-airline...</td>\n",
       "    </tr>\n",
       "    <tr>\n",
       "      <th>14</th>\n",
       "      <td>Pinterest improving boards to help people ‘tak...</td>\n",
       "      <td>8 Hours Ago</td>\n",
       "      <td>https://www.cnbc.com/2022/06/29/pinterest-impr...</td>\n",
       "    </tr>\n",
       "    <tr>\n",
       "      <th>15</th>\n",
       "      <td>Best trades on CNBC Wednesday: Find bargains a...</td>\n",
       "      <td>8 Hours Ago</td>\n",
       "      <td>https://www.cnbc.com/2022/06/29/best-trades-on...</td>\n",
       "    </tr>\n",
       "    <tr>\n",
       "      <th>16</th>\n",
       "      <td>Stock futures fall as S&amp;P 500 tracks for worst...</td>\n",
       "      <td>8 Hours Ago</td>\n",
       "      <td>https://www.cnbc.com/2022/06/29/stock-market-f...</td>\n",
       "    </tr>\n",
       "    <tr>\n",
       "      <th>17</th>\n",
       "      <td>Judge lifts Trump's contempt order in New York...</td>\n",
       "      <td>9 Hours Ago</td>\n",
       "      <td>https://www.cnbc.com/2022/06/29/judge-lifts-tr...</td>\n",
       "    </tr>\n",
       "    <tr>\n",
       "      <th>18</th>\n",
       "      <td>CoinFlex probably won't resume withdrawals Thu...</td>\n",
       "      <td>10 Hours Ago</td>\n",
       "      <td>https://www.cnbc.com/2022/06/29/coinflex-ceo-u...</td>\n",
       "    </tr>\n",
       "    <tr>\n",
       "      <th>19</th>\n",
       "      <td>Amazon wants us to believe the robots are comi...</td>\n",
       "      <td>10 Hours Ago</td>\n",
       "      <td>https://www.cnbc.com/2022/06/29/amazon-remars-...</td>\n",
       "    </tr>\n",
       "    <tr>\n",
       "      <th>20</th>\n",
       "      <td>RH shares slide after company lowers its outlo...</td>\n",
       "      <td>10 Hours Ago</td>\n",
       "      <td>https://www.cnbc.com/2022/06/29/rh-shares-slid...</td>\n",
       "    </tr>\n",
       "    <tr>\n",
       "      <th>21</th>\n",
       "      <td>This former financial advisor now educates adv...</td>\n",
       "      <td>10 Hours Ago</td>\n",
       "      <td>https://www.cnbc.com/2022/06/29/this-former-fi...</td>\n",
       "    </tr>\n",
       "    <tr>\n",
       "      <th>22</th>\n",
       "      <td>Debt collector 'pay to pay fees' are 'often il...</td>\n",
       "      <td>11 Hours Ago</td>\n",
       "      <td>https://www.cnbc.com/2022/06/29/debt-collector...</td>\n",
       "    </tr>\n",
       "    <tr>\n",
       "      <th>23</th>\n",
       "      <td>Recession stars: The best stocks in every indu...</td>\n",
       "      <td>11 Hours Ago</td>\n",
       "      <td>https://www.cnbc.com/2022/06/29/recession-star...</td>\n",
       "    </tr>\n",
       "    <tr>\n",
       "      <th>24</th>\n",
       "      <td>'It's like going to the DMV online': How to bu...</td>\n",
       "      <td>12 Hours Ago</td>\n",
       "      <td>https://www.cnbc.com/2022/06/29/how-to-buy-ser...</td>\n",
       "    </tr>\n",
       "    <tr>\n",
       "      <th>25</th>\n",
       "      <td>Longtime Google exec Nick Fox to take interim ...</td>\n",
       "      <td>12 Hours Ago</td>\n",
       "      <td>https://www.cnbc.com/2022/06/29/googles-nick-f...</td>\n",
       "    </tr>\n",
       "    <tr>\n",
       "      <th>26</th>\n",
       "      <td>How to calculate your credit utilization rate</td>\n",
       "      <td>12 Hours Ago</td>\n",
       "      <td>https://www.cnbc.com/2022/06/29/how-to-calcula...</td>\n",
       "    </tr>\n",
       "    <tr>\n",
       "      <th>27</th>\n",
       "      <td>BofA price-target cuts on Club chip stocks don...</td>\n",
       "      <td>12 Hours Ago</td>\n",
       "      <td>https://www.cnbc.com/2022/06/29/bofa-price-tar...</td>\n",
       "    </tr>\n",
       "    <tr>\n",
       "      <th>28</th>\n",
       "      <td>Supreme Court Justice Breyer to retire Thursda...</td>\n",
       "      <td>13 Hours Ago</td>\n",
       "      <td>https://www.cnbc.com/2022/06/29/supreme-court-...</td>\n",
       "    </tr>\n",
       "    <tr>\n",
       "      <th>29</th>\n",
       "      <td>Stocks making the biggest moves midday: Bed Ba...</td>\n",
       "      <td>14 Hours Ago</td>\n",
       "      <td>https://www.cnbc.com/2022/06/29/stocks-making-...</td>\n",
       "    </tr>\n",
       "    <tr>\n",
       "      <th>30</th>\n",
       "      <td>LVMH buys California wine giant Joseph Phelps ...</td>\n",
       "      <td>14 Hours Ago</td>\n",
       "      <td>https://www.cnbc.com/2022/06/29/lvmh-buys-cali...</td>\n",
       "    </tr>\n",
       "  </tbody>\n",
       "</table>\n",
       "</div>"
      ],
      "text/plain": [
       "                                             Headline          Time  \\\n",
       "1   In China, more and more people want to save mo...    42 Min Ago   \n",
       "2   Coinbase seeks licenses in Europe as it looks ...    1 Hour Ago   \n",
       "3   Here's what's hot — and what's not — in fintec...    1 Hour Ago   \n",
       "4   European markets set to continue declines as r...   2 Hours Ago   \n",
       "5   Grayscale sues SEC after rejection of bid to t...   3 Hours Ago   \n",
       "6   China continues to snap up Russian coal at ste...   5 Hours Ago   \n",
       "7   Goldman says buy these global stocks to play a...   6 Hours Ago   \n",
       "8   China Shenzhen stocks rise as data shows facto...   7 Hours Ago   \n",
       "9   Cramer's lightning round: I prefer Deere over ...   7 Hours Ago   \n",
       "10  Cramer warns investors not to group all stocks...   7 Hours Ago   \n",
       "11  Cramer: Charts suggest the recent commodities ...   7 Hours Ago   \n",
       "12  Palantir CEO Alex Karp on fighting with Peter ...   7 Hours Ago   \n",
       "13  Spirit delays merger shareholder vote before m...   8 Hours Ago   \n",
       "14  Pinterest improving boards to help people ‘tak...   8 Hours Ago   \n",
       "15  Best trades on CNBC Wednesday: Find bargains a...   8 Hours Ago   \n",
       "16  Stock futures fall as S&P 500 tracks for worst...   8 Hours Ago   \n",
       "17  Judge lifts Trump's contempt order in New York...   9 Hours Ago   \n",
       "18  CoinFlex probably won't resume withdrawals Thu...  10 Hours Ago   \n",
       "19  Amazon wants us to believe the robots are comi...  10 Hours Ago   \n",
       "20  RH shares slide after company lowers its outlo...  10 Hours Ago   \n",
       "21  This former financial advisor now educates adv...  10 Hours Ago   \n",
       "22  Debt collector 'pay to pay fees' are 'often il...  11 Hours Ago   \n",
       "23  Recession stars: The best stocks in every indu...  11 Hours Ago   \n",
       "24  'It's like going to the DMV online': How to bu...  12 Hours Ago   \n",
       "25  Longtime Google exec Nick Fox to take interim ...  12 Hours Ago   \n",
       "26      How to calculate your credit utilization rate  12 Hours Ago   \n",
       "27  BofA price-target cuts on Club chip stocks don...  12 Hours Ago   \n",
       "28  Supreme Court Justice Breyer to retire Thursda...  13 Hours Ago   \n",
       "29  Stocks making the biggest moves midday: Bed Ba...  14 Hours Ago   \n",
       "30  LVMH buys California wine giant Joseph Phelps ...  14 Hours Ago   \n",
       "\n",
       "                                            News link  \n",
       "1   https://www.cnbc.com/2022/06/30/pboc-chinese-p...  \n",
       "2   https://www.cnbc.com/2022/06/30/coinbase-seeks...  \n",
       "3   https://www.cnbc.com/2022/06/30/heres-whats-ho...  \n",
       "4   https://www.cnbc.com/2022/06/30/european-marke...  \n",
       "5   https://www.cnbc.com/2022/06/30/grayscale-sues...  \n",
       "6   https://www.cnbc.com/2022/06/30/china-snaps-up...  \n",
       "7   https://www.cnbc.com/2022/06/30/electric-vehic...  \n",
       "8   https://www.cnbc.com/2022/06/30/asia-markets-c...  \n",
       "9   https://www.cnbc.com/2022/06/29/cramers-lightn...  \n",
       "10  https://www.cnbc.com/2022/06/29/cramer-warns-i...  \n",
       "11  https://www.cnbc.com/2022/06/29/cramer-charts-...  \n",
       "12  https://www.cnbc.com/2022/06/29/palantir-ceo-k...  \n",
       "13  https://www.cnbc.com/2022/06/29/spirit-airline...  \n",
       "14  https://www.cnbc.com/2022/06/29/pinterest-impr...  \n",
       "15  https://www.cnbc.com/2022/06/29/best-trades-on...  \n",
       "16  https://www.cnbc.com/2022/06/29/stock-market-f...  \n",
       "17  https://www.cnbc.com/2022/06/29/judge-lifts-tr...  \n",
       "18  https://www.cnbc.com/2022/06/29/coinflex-ceo-u...  \n",
       "19  https://www.cnbc.com/2022/06/29/amazon-remars-...  \n",
       "20  https://www.cnbc.com/2022/06/29/rh-shares-slid...  \n",
       "21  https://www.cnbc.com/2022/06/29/this-former-fi...  \n",
       "22  https://www.cnbc.com/2022/06/29/debt-collector...  \n",
       "23  https://www.cnbc.com/2022/06/29/recession-star...  \n",
       "24  https://www.cnbc.com/2022/06/29/how-to-buy-ser...  \n",
       "25  https://www.cnbc.com/2022/06/29/googles-nick-f...  \n",
       "26  https://www.cnbc.com/2022/06/29/how-to-calcula...  \n",
       "27  https://www.cnbc.com/2022/06/29/bofa-price-tar...  \n",
       "28  https://www.cnbc.com/2022/06/29/supreme-court-...  \n",
       "29  https://www.cnbc.com/2022/06/29/stocks-making-...  \n",
       "30  https://www.cnbc.com/2022/06/29/lvmh-buys-cali...  "
      ]
     },
     "execution_count": 113,
     "metadata": {},
     "output_type": "execute_result"
    }
   ],
   "source": [
    "# Making dataframe\n",
    "\n",
    "df11 = pd.DataFrame({'Headline': news_headline, 'Time': news_time, 'News link': news_link})\n",
    "\n",
    "df11.index=df11.index+1\n",
    "\n",
    "df11"
   ]
  },
  {
   "cell_type": "markdown",
   "id": "3728c2c9",
   "metadata": {},
   "source": [
    "### <font color='red'>8) Write a python program to scrape the details of most downloaded articles from AI in last 90 days.\n",
    "    \n",
    "### https://www.journals.elsevier.com/artificial-intelligence/most-downloaded-articles \n",
    "### <font color='red'>Scrape below mentioned details:</font>\n",
    "\n",
    "### <font color='red'>i) Paper Title</font>\n",
    "\n",
    "### <font color='red'>ii) Authors</font>\n",
    "\n",
    "### <font color='red'>iii) Published Date</font>\n",
    "\n",
    "### <font color='red'>iv) Paper URL</font>\n"
   ]
  },
  {
   "cell_type": "code",
   "execution_count": 114,
   "id": "c8512da8",
   "metadata": {},
   "outputs": [
    {
     "data": {
      "text/plain": [
       "<Response [200]>"
      ]
     },
     "execution_count": 114,
     "metadata": {},
     "output_type": "execute_result"
    }
   ],
   "source": [
    "page12 = requests.get('https://www.journals.elsevier.com/artificial-intelligence/most-downloaded-articles')\n",
    "page12"
   ]
  },
  {
   "cell_type": "code",
   "execution_count": 115,
   "id": "202abb96",
   "metadata": {},
   "outputs": [],
   "source": [
    "soup12 = BeautifulSoup(page12.content)"
   ]
  },
  {
   "cell_type": "markdown",
   "id": "b0bf0cd5",
   "metadata": {},
   "source": [
    "#### <font color='red'>i) Paper Title</font>"
   ]
  },
  {
   "cell_type": "code",
   "execution_count": 116,
   "id": "29ec38c9",
   "metadata": {},
   "outputs": [],
   "source": [
    "# Paper title\n",
    "\n",
    "title = []\n",
    "\n",
    "for i in soup12.find_all('h2', class_=\"sc-1qrq3sd-1 MKjKb sc-1nmom32-0 sc-1nmom32-1 hqhUYH ebTA-dR\"):\n",
    "    title.append(i.text)\n",
    "    "
   ]
  },
  {
   "cell_type": "markdown",
   "id": "7ed2b1e8",
   "metadata": {},
   "source": [
    "#### <font color='red'>ii) Authors</font>"
   ]
  },
  {
   "cell_type": "code",
   "execution_count": 117,
   "id": "5623d810",
   "metadata": {},
   "outputs": [],
   "source": [
    "# Authors\n",
    "\n",
    "authors = []\n",
    "\n",
    "for i in soup12.find_all('span', class_=\"sc-1w3fpd7-0 pgLAT\"):\n",
    "    authors.append(i.text)\n",
    "    "
   ]
  },
  {
   "cell_type": "markdown",
   "id": "48874495",
   "metadata": {},
   "source": [
    "#### <font color='red'>iii) Published Date</font>\n"
   ]
  },
  {
   "cell_type": "code",
   "execution_count": 118,
   "id": "a94ab0ea",
   "metadata": {},
   "outputs": [],
   "source": [
    "# Published date\n",
    "\n",
    "pub_date = []\n",
    "\n",
    "for i in soup12.find_all('span', class_=\"sc-1thf9ly-2 bKddwo\"):\n",
    "    pub_date.append(i.text)\n",
    "    "
   ]
  },
  {
   "cell_type": "markdown",
   "id": "22d3abee",
   "metadata": {},
   "source": [
    "#### <font color='red'>iv) Paper URL</font>\n"
   ]
  },
  {
   "cell_type": "code",
   "execution_count": 119,
   "id": "4987c40d",
   "metadata": {},
   "outputs": [],
   "source": [
    "# Paper URL\n",
    "\n",
    "paper_url = []\n",
    "\n",
    "for i in soup12.find_all(\"a\", class_=\"sc-5smygv-0 nrDZj\"):\n",
    "    paper_url.append(i.get('href'))\n",
    "    "
   ]
  },
  {
   "cell_type": "code",
   "execution_count": 120,
   "id": "bcd6fa5b",
   "metadata": {},
   "outputs": [
    {
     "name": "stdout",
     "output_type": "stream",
     "text": [
      "25 25 25 25\n"
     ]
    }
   ],
   "source": [
    "print(len(title), len(authors), len(pub_date), len(paper_url))"
   ]
  },
  {
   "cell_type": "code",
   "execution_count": 121,
   "id": "6a202bca",
   "metadata": {},
   "outputs": [
    {
     "data": {
      "text/html": [
       "<div>\n",
       "<style scoped>\n",
       "    .dataframe tbody tr th:only-of-type {\n",
       "        vertical-align: middle;\n",
       "    }\n",
       "\n",
       "    .dataframe tbody tr th {\n",
       "        vertical-align: top;\n",
       "    }\n",
       "\n",
       "    .dataframe thead th {\n",
       "        text-align: right;\n",
       "    }\n",
       "</style>\n",
       "<table border=\"1\" class=\"dataframe\">\n",
       "  <thead>\n",
       "    <tr style=\"text-align: right;\">\n",
       "      <th></th>\n",
       "      <th>Paper title</th>\n",
       "      <th>Authors</th>\n",
       "      <th>Published date</th>\n",
       "      <th>Paper URL</th>\n",
       "    </tr>\n",
       "  </thead>\n",
       "  <tbody>\n",
       "    <tr>\n",
       "      <th>1</th>\n",
       "      <td>Reward is enough</td>\n",
       "      <td>Silver, David, Singh, Satinder, Precup, Doina,...</td>\n",
       "      <td>October 2021</td>\n",
       "      <td>https://www.sciencedirect.com/science/article/...</td>\n",
       "    </tr>\n",
       "    <tr>\n",
       "      <th>2</th>\n",
       "      <td>Making sense of raw input</td>\n",
       "      <td>Evans, Richard, Bošnjak, Matko and 5 more</td>\n",
       "      <td>October 2021</td>\n",
       "      <td>https://www.sciencedirect.com/science/article/...</td>\n",
       "    </tr>\n",
       "    <tr>\n",
       "      <th>3</th>\n",
       "      <td>Law and logic: A review from an argumentation ...</td>\n",
       "      <td>Prakken, Henry, Sartor, Giovanni</td>\n",
       "      <td>October 2015</td>\n",
       "      <td>https://www.sciencedirect.com/science/article/...</td>\n",
       "    </tr>\n",
       "    <tr>\n",
       "      <th>4</th>\n",
       "      <td>Creativity and artificial intelligence</td>\n",
       "      <td>Boden, Margaret A.</td>\n",
       "      <td>August 1998</td>\n",
       "      <td>https://www.sciencedirect.com/science/article/...</td>\n",
       "    </tr>\n",
       "    <tr>\n",
       "      <th>5</th>\n",
       "      <td>Artificial cognition for social human–robot in...</td>\n",
       "      <td>Lemaignan, Séverin, Warnier, Mathieu and 3 more</td>\n",
       "      <td>June 2017</td>\n",
       "      <td>https://www.sciencedirect.com/science/article/...</td>\n",
       "    </tr>\n",
       "    <tr>\n",
       "      <th>6</th>\n",
       "      <td>Explanation in artificial intelligence: Insigh...</td>\n",
       "      <td>Miller, Tim</td>\n",
       "      <td>February 2019</td>\n",
       "      <td>https://www.sciencedirect.com/science/article/...</td>\n",
       "    </tr>\n",
       "    <tr>\n",
       "      <th>7</th>\n",
       "      <td>Making sense of sensory input</td>\n",
       "      <td>Evans, Richard, Hernández-Orallo, José and 3 more</td>\n",
       "      <td>April 2021</td>\n",
       "      <td>https://www.sciencedirect.com/science/article/...</td>\n",
       "    </tr>\n",
       "    <tr>\n",
       "      <th>8</th>\n",
       "      <td>Conflict-based search for optimal multi-agent ...</td>\n",
       "      <td>Sharon, Guni, Stern, Roni, Felner, Ariel, Stur...</td>\n",
       "      <td>February 2015</td>\n",
       "      <td>https://www.sciencedirect.com/science/article/...</td>\n",
       "    </tr>\n",
       "    <tr>\n",
       "      <th>9</th>\n",
       "      <td>Between MDPs and semi-MDPs: A framework for te...</td>\n",
       "      <td>Sutton, Richard S., Precup, Doina, Singh, Sati...</td>\n",
       "      <td>August 1999</td>\n",
       "      <td>https://www.sciencedirect.com/science/article/...</td>\n",
       "    </tr>\n",
       "    <tr>\n",
       "      <th>10</th>\n",
       "      <td>The Hanabi challenge: A new frontier for AI re...</td>\n",
       "      <td>Bard, Nolan, Foerster, Jakob N. and 13 more</td>\n",
       "      <td>March 2020</td>\n",
       "      <td>https://www.sciencedirect.com/science/article/...</td>\n",
       "    </tr>\n",
       "    <tr>\n",
       "      <th>11</th>\n",
       "      <td>Evaluating XAI: A comparison of rule-based and...</td>\n",
       "      <td>van der Waa, Jasper, Nieuwburg, Elisabeth, Cre...</td>\n",
       "      <td>February 2021</td>\n",
       "      <td>https://www.sciencedirect.com/science/article/...</td>\n",
       "    </tr>\n",
       "    <tr>\n",
       "      <th>12</th>\n",
       "      <td>Argumentation in artificial intelligence</td>\n",
       "      <td>Bench-Capon, T.J.M., Dunne, Paul E.</td>\n",
       "      <td>October 2007</td>\n",
       "      <td>https://www.sciencedirect.com/science/article/...</td>\n",
       "    </tr>\n",
       "    <tr>\n",
       "      <th>13</th>\n",
       "      <td>Algorithms for computing strategies in two-pla...</td>\n",
       "      <td>Bošanský, Branislav, Lisý, Viliam and 3 more</td>\n",
       "      <td>August 2016</td>\n",
       "      <td>https://www.sciencedirect.com/science/article/...</td>\n",
       "    </tr>\n",
       "    <tr>\n",
       "      <th>14</th>\n",
       "      <td>Multiple object tracking: A literature review</td>\n",
       "      <td>Luo, Wenhan, Xing, Junliang and 4 more</td>\n",
       "      <td>April 2021</td>\n",
       "      <td>https://www.sciencedirect.com/science/article/...</td>\n",
       "    </tr>\n",
       "    <tr>\n",
       "      <th>15</th>\n",
       "      <td>Selection of relevant features and examples in...</td>\n",
       "      <td>Blum, Avrim L., Langley, Pat</td>\n",
       "      <td>December 1997</td>\n",
       "      <td>https://www.sciencedirect.com/science/article/...</td>\n",
       "    </tr>\n",
       "    <tr>\n",
       "      <th>16</th>\n",
       "      <td>A survey of inverse reinforcement learning: Ch...</td>\n",
       "      <td>Arora, Saurabh, Doshi, Prashant</td>\n",
       "      <td>August 2021</td>\n",
       "      <td>https://www.sciencedirect.com/science/article/...</td>\n",
       "    </tr>\n",
       "    <tr>\n",
       "      <th>17</th>\n",
       "      <td>Explaining individual predictions when feature...</td>\n",
       "      <td>Aas, Kjersti, Jullum, Martin, Løland, Anders</td>\n",
       "      <td>September 2021</td>\n",
       "      <td>https://www.sciencedirect.com/science/article/...</td>\n",
       "    </tr>\n",
       "    <tr>\n",
       "      <th>18</th>\n",
       "      <td>A review of possible effects of cognitive bias...</td>\n",
       "      <td>Kliegr, Tomáš, Bahník, Štěpán, Fürnkranz, Joha...</td>\n",
       "      <td>June 2021</td>\n",
       "      <td>https://www.sciencedirect.com/science/article/...</td>\n",
       "    </tr>\n",
       "    <tr>\n",
       "      <th>19</th>\n",
       "      <td>Integrating social power into the decision-mak...</td>\n",
       "      <td>Pereira, Gonçalo, Prada, Rui, Santos, Pedro A.</td>\n",
       "      <td>December 2016</td>\n",
       "      <td>https://www.sciencedirect.com/science/article/...</td>\n",
       "    </tr>\n",
       "    <tr>\n",
       "      <th>20</th>\n",
       "      <td>“That's (not) the output I expected!” On the r...</td>\n",
       "      <td>Riveiro, Maria, Thill, Serge</td>\n",
       "      <td>September 2021</td>\n",
       "      <td>https://www.sciencedirect.com/science/article/...</td>\n",
       "    </tr>\n",
       "    <tr>\n",
       "      <th>21</th>\n",
       "      <td>Explaining black-box classifiers using post-ho...</td>\n",
       "      <td>Kenny, Eoin M., Ford, Courtney, Quinn, Molly, ...</td>\n",
       "      <td>May 2021</td>\n",
       "      <td>https://www.sciencedirect.com/science/article/...</td>\n",
       "    </tr>\n",
       "    <tr>\n",
       "      <th>22</th>\n",
       "      <td>Algorithm runtime prediction: Methods &amp; evalua...</td>\n",
       "      <td>Hutter, Frank, Xu, Lin, Hoos, Holger H., Leyto...</td>\n",
       "      <td>January 2014</td>\n",
       "      <td>https://www.sciencedirect.com/science/article/...</td>\n",
       "    </tr>\n",
       "    <tr>\n",
       "      <th>23</th>\n",
       "      <td>Wrappers for feature subset selection</td>\n",
       "      <td>Kohavi, Ron, John, George H.</td>\n",
       "      <td>December 1997</td>\n",
       "      <td>https://www.sciencedirect.com/science/article/...</td>\n",
       "    </tr>\n",
       "    <tr>\n",
       "      <th>24</th>\n",
       "      <td>Commonsense visual sensemaking for autonomous ...</td>\n",
       "      <td>Suchan, Jakob, Bhatt, Mehul, Varadarajan, Srik...</td>\n",
       "      <td>October 2021</td>\n",
       "      <td>https://www.sciencedirect.com/science/article/...</td>\n",
       "    </tr>\n",
       "    <tr>\n",
       "      <th>25</th>\n",
       "      <td>Quantum computation, quantum theory and AI</td>\n",
       "      <td>Ying, Mingsheng</td>\n",
       "      <td>February 2010</td>\n",
       "      <td>https://www.sciencedirect.com/science/article/...</td>\n",
       "    </tr>\n",
       "  </tbody>\n",
       "</table>\n",
       "</div>"
      ],
      "text/plain": [
       "                                          Paper title  \\\n",
       "1                                    Reward is enough   \n",
       "2                           Making sense of raw input   \n",
       "3   Law and logic: A review from an argumentation ...   \n",
       "4              Creativity and artificial intelligence   \n",
       "5   Artificial cognition for social human–robot in...   \n",
       "6   Explanation in artificial intelligence: Insigh...   \n",
       "7                       Making sense of sensory input   \n",
       "8   Conflict-based search for optimal multi-agent ...   \n",
       "9   Between MDPs and semi-MDPs: A framework for te...   \n",
       "10  The Hanabi challenge: A new frontier for AI re...   \n",
       "11  Evaluating XAI: A comparison of rule-based and...   \n",
       "12           Argumentation in artificial intelligence   \n",
       "13  Algorithms for computing strategies in two-pla...   \n",
       "14      Multiple object tracking: A literature review   \n",
       "15  Selection of relevant features and examples in...   \n",
       "16  A survey of inverse reinforcement learning: Ch...   \n",
       "17  Explaining individual predictions when feature...   \n",
       "18  A review of possible effects of cognitive bias...   \n",
       "19  Integrating social power into the decision-mak...   \n",
       "20  “That's (not) the output I expected!” On the r...   \n",
       "21  Explaining black-box classifiers using post-ho...   \n",
       "22  Algorithm runtime prediction: Methods & evalua...   \n",
       "23              Wrappers for feature subset selection   \n",
       "24  Commonsense visual sensemaking for autonomous ...   \n",
       "25         Quantum computation, quantum theory and AI   \n",
       "\n",
       "                                              Authors  Published date  \\\n",
       "1   Silver, David, Singh, Satinder, Precup, Doina,...    October 2021   \n",
       "2           Evans, Richard, Bošnjak, Matko and 5 more    October 2021   \n",
       "3                   Prakken, Henry, Sartor, Giovanni     October 2015   \n",
       "4                                 Boden, Margaret A.      August 1998   \n",
       "5     Lemaignan, Séverin, Warnier, Mathieu and 3 more       June 2017   \n",
       "6                                        Miller, Tim    February 2019   \n",
       "7   Evans, Richard, Hernández-Orallo, José and 3 more      April 2021   \n",
       "8   Sharon, Guni, Stern, Roni, Felner, Ariel, Stur...   February 2015   \n",
       "9   Sutton, Richard S., Precup, Doina, Singh, Sati...     August 1999   \n",
       "10        Bard, Nolan, Foerster, Jakob N. and 13 more      March 2020   \n",
       "11  van der Waa, Jasper, Nieuwburg, Elisabeth, Cre...   February 2021   \n",
       "12               Bench-Capon, T.J.M., Dunne, Paul E.     October 2007   \n",
       "13       Bošanský, Branislav, Lisý, Viliam and 3 more     August 2016   \n",
       "14             Luo, Wenhan, Xing, Junliang and 4 more      April 2021   \n",
       "15                      Blum, Avrim L., Langley, Pat    December 1997   \n",
       "16                   Arora, Saurabh, Doshi, Prashant      August 2021   \n",
       "17      Aas, Kjersti, Jullum, Martin, Løland, Anders   September 2021   \n",
       "18  Kliegr, Tomáš, Bahník, Štěpán, Fürnkranz, Joha...       June 2021   \n",
       "19    Pereira, Gonçalo, Prada, Rui, Santos, Pedro A.    December 2016   \n",
       "20                      Riveiro, Maria, Thill, Serge   September 2021   \n",
       "21  Kenny, Eoin M., Ford, Courtney, Quinn, Molly, ...        May 2021   \n",
       "22  Hutter, Frank, Xu, Lin, Hoos, Holger H., Leyto...    January 2014   \n",
       "23                      Kohavi, Ron, John, George H.    December 1997   \n",
       "24  Suchan, Jakob, Bhatt, Mehul, Varadarajan, Srik...    October 2021   \n",
       "25                                   Ying, Mingsheng    February 2010   \n",
       "\n",
       "                                            Paper URL  \n",
       "1   https://www.sciencedirect.com/science/article/...  \n",
       "2   https://www.sciencedirect.com/science/article/...  \n",
       "3   https://www.sciencedirect.com/science/article/...  \n",
       "4   https://www.sciencedirect.com/science/article/...  \n",
       "5   https://www.sciencedirect.com/science/article/...  \n",
       "6   https://www.sciencedirect.com/science/article/...  \n",
       "7   https://www.sciencedirect.com/science/article/...  \n",
       "8   https://www.sciencedirect.com/science/article/...  \n",
       "9   https://www.sciencedirect.com/science/article/...  \n",
       "10  https://www.sciencedirect.com/science/article/...  \n",
       "11  https://www.sciencedirect.com/science/article/...  \n",
       "12  https://www.sciencedirect.com/science/article/...  \n",
       "13  https://www.sciencedirect.com/science/article/...  \n",
       "14  https://www.sciencedirect.com/science/article/...  \n",
       "15  https://www.sciencedirect.com/science/article/...  \n",
       "16  https://www.sciencedirect.com/science/article/...  \n",
       "17  https://www.sciencedirect.com/science/article/...  \n",
       "18  https://www.sciencedirect.com/science/article/...  \n",
       "19  https://www.sciencedirect.com/science/article/...  \n",
       "20  https://www.sciencedirect.com/science/article/...  \n",
       "21  https://www.sciencedirect.com/science/article/...  \n",
       "22  https://www.sciencedirect.com/science/article/...  \n",
       "23  https://www.sciencedirect.com/science/article/...  \n",
       "24  https://www.sciencedirect.com/science/article/...  \n",
       "25  https://www.sciencedirect.com/science/article/...  "
      ]
     },
     "execution_count": 121,
     "metadata": {},
     "output_type": "execute_result"
    }
   ],
   "source": [
    "# Making dataframe\n",
    "\n",
    "df12 = pd.DataFrame({'Paper title': title, 'Authors': authors , 'Published date': pub_date, 'Paper URL':paper_url})\n",
    "\n",
    "df12.index=df12.index+1\n",
    "\n",
    "df12"
   ]
  },
  {
   "cell_type": "markdown",
   "id": "716fde64",
   "metadata": {},
   "source": [
    "### <font color='red'>9) Write a python program to scrape mentioned details from dineout.co.in :</font>\n",
    "### <font color='red'>i) Restaurant name</font>\n",
    "### <font color='red'>ii) Cuisine</font>\n",
    "### <font color='red'>iii) Location</font>\n",
    "### <font color='red'>iv) Ratings</font>\n",
    "### <font color='red'>v) Image URL</font>"
   ]
  },
  {
   "cell_type": "code",
   "execution_count": 122,
   "id": "3b471564",
   "metadata": {},
   "outputs": [
    {
     "data": {
      "text/plain": [
       "<Response [200]>"
      ]
     },
     "execution_count": 122,
     "metadata": {},
     "output_type": "execute_result"
    }
   ],
   "source": [
    "page13 = requests.get('https://www.dineout.co.in/delhi-restaurants/buffet-special')\n",
    "page13"
   ]
  },
  {
   "cell_type": "code",
   "execution_count": 123,
   "id": "8dbe20a4",
   "metadata": {},
   "outputs": [],
   "source": [
    "soup13 = BeautifulSoup(page13.content)"
   ]
  },
  {
   "cell_type": "markdown",
   "id": "b273669b",
   "metadata": {},
   "source": [
    "#### <font color='red'>i) Restaurant name</font>"
   ]
  },
  {
   "cell_type": "code",
   "execution_count": 124,
   "id": "c9d31aa4",
   "metadata": {},
   "outputs": [],
   "source": [
    "# Restaurant name \n",
    "\n",
    "restaurant_name = []\n",
    "\n",
    "for i in soup13.find_all('div',class_ ='restnt-info cursor'):\n",
    "    restaurant_name.append(i.text)\n",
    "              "
   ]
  },
  {
   "cell_type": "markdown",
   "id": "5e159c89",
   "metadata": {},
   "source": [
    "#### <font color='red'>ii) Cuisine</font>"
   ]
  },
  {
   "cell_type": "code",
   "execution_count": 125,
   "id": "ab905f36",
   "metadata": {},
   "outputs": [],
   "source": [
    "# Cuisine\n",
    "\n",
    "cuisine = []\n",
    "\n",
    "for i in soup13.find_all('span',class_ ='double-line-ellipsis'):\n",
    "    cuisine.append(i.text.replace('₹','').split('|')[1])\n",
    "               "
   ]
  },
  {
   "cell_type": "markdown",
   "id": "9209f686",
   "metadata": {},
   "source": [
    "#### <font color='red'>iii) Location</font>"
   ]
  },
  {
   "cell_type": "code",
   "execution_count": 126,
   "id": "d6f742cb",
   "metadata": {},
   "outputs": [
    {
     "data": {
      "text/plain": [
       "['Connaught Place, Central Delhi',\n",
       " '3CS Mall,Lajpat Nagar - 3, South Delhi',\n",
       " 'Pacific Mall,Tagore Garden, West Delhi',\n",
       " 'The Leela Ambience Convention Hotel,Shahdara, East Delhi',\n",
       " 'Gardens Galleria,Sector 38A, Noida',\n",
       " 'Hilton Garden Inn,Saket, South Delhi',\n",
       " 'Taurus Sarovar Portico,Mahipalpur, South Delhi',\n",
       " 'Indirapuram Habitat Centre,Indirapuram, Ghaziabad',\n",
       " 'Vibe by The Lalit Traveller,Sector 35, Faridabad',\n",
       " 'Suncity Business Tower,Golf Course Road, Gurgaon',\n",
       " 'Sector 29, Faridabad',\n",
       " 'NIT, Faridabad',\n",
       " 'DoubleTree By Hilton Gurugram Baani Square,Sector 50, Gurgaon']"
      ]
     },
     "execution_count": 126,
     "metadata": {},
     "output_type": "execute_result"
    }
   ],
   "source": [
    "location=[]\n",
    "\n",
    "for i in soup13.find_all('div',class_ ='restnt-loc ellipsis'):\n",
    "    location.append(i.text)\n",
    "        \n",
    "location        "
   ]
  },
  {
   "cell_type": "markdown",
   "id": "4c558b63",
   "metadata": {},
   "source": [
    "#### <font color='red'>iv) Ratings</font>"
   ]
  },
  {
   "cell_type": "code",
   "execution_count": 127,
   "id": "ee3bcc98",
   "metadata": {},
   "outputs": [],
   "source": [
    "# Ratings\n",
    "\n",
    "rating = []\n",
    "\n",
    "for i in soup13.find_all('div',class_='restnt-rating rating-4'):\n",
    "    rating.append(i.text)\n",
    "             "
   ]
  },
  {
   "cell_type": "markdown",
   "id": "033d9b64",
   "metadata": {},
   "source": [
    "#### <font color='red'>v) Image URL</font>"
   ]
  },
  {
   "cell_type": "code",
   "execution_count": 128,
   "id": "ba339f58",
   "metadata": {},
   "outputs": [],
   "source": [
    "# Image URL\n",
    "\n",
    "image_url = []\n",
    "    \n",
    "for i in soup13.find_all('img',class_='no-img'):\n",
    "     image_url.append(i['data-src'])\n",
    "              "
   ]
  },
  {
   "cell_type": "code",
   "execution_count": 129,
   "id": "79df7d33",
   "metadata": {},
   "outputs": [
    {
     "data": {
      "text/html": [
       "<div>\n",
       "<style scoped>\n",
       "    .dataframe tbody tr th:only-of-type {\n",
       "        vertical-align: middle;\n",
       "    }\n",
       "\n",
       "    .dataframe tbody tr th {\n",
       "        vertical-align: top;\n",
       "    }\n",
       "\n",
       "    .dataframe thead th {\n",
       "        text-align: right;\n",
       "    }\n",
       "</style>\n",
       "<table border=\"1\" class=\"dataframe\">\n",
       "  <thead>\n",
       "    <tr style=\"text-align: right;\">\n",
       "      <th></th>\n",
       "      <th>Restaurant name</th>\n",
       "      <th>Cuisine</th>\n",
       "      <th>Location</th>\n",
       "      <th>Rating</th>\n",
       "      <th>Image_URL</th>\n",
       "    </tr>\n",
       "  </thead>\n",
       "  <tbody>\n",
       "    <tr>\n",
       "      <th>1</th>\n",
       "      <td>Castle BarbequeConnaught Place, Central Delhi</td>\n",
       "      <td>North Indian, Chinese</td>\n",
       "      <td>Connaught Place, Central Delhi</td>\n",
       "      <td>3.5</td>\n",
       "      <td>https://im1.dineout.co.in/images/uploads/resta...</td>\n",
       "    </tr>\n",
       "    <tr>\n",
       "      <th>2</th>\n",
       "      <td>Jungle Jamboree3CS Mall,Lajpat Nagar - 3, Sout...</td>\n",
       "      <td>North Indian, Asian, Italian</td>\n",
       "      <td>3CS Mall,Lajpat Nagar - 3, South Delhi</td>\n",
       "      <td>3.9</td>\n",
       "      <td>https://im1.dineout.co.in/images/uploads/resta...</td>\n",
       "    </tr>\n",
       "    <tr>\n",
       "      <th>3</th>\n",
       "      <td>Castle BarbequePacific Mall,Tagore Garden, Wes...</td>\n",
       "      <td>Chinese, North Indian</td>\n",
       "      <td>Pacific Mall,Tagore Garden, West Delhi</td>\n",
       "      <td>3.9</td>\n",
       "      <td>https://im1.dineout.co.in/images/uploads/resta...</td>\n",
       "    </tr>\n",
       "    <tr>\n",
       "      <th>4</th>\n",
       "      <td>Cafe KnoshThe Leela Ambience Convention Hotel,...</td>\n",
       "      <td>Italian, Continental</td>\n",
       "      <td>The Leela Ambience Convention Hotel,Shahdara, ...</td>\n",
       "      <td>4.3</td>\n",
       "      <td>https://im1.dineout.co.in/images/uploads/resta...</td>\n",
       "    </tr>\n",
       "    <tr>\n",
       "      <th>5</th>\n",
       "      <td>The Barbeque CompanyGardens Galleria,Sector 38...</td>\n",
       "      <td>North Indian, Chinese</td>\n",
       "      <td>Gardens Galleria,Sector 38A, Noida</td>\n",
       "      <td>4</td>\n",
       "      <td>https://im1.dineout.co.in/images/uploads/resta...</td>\n",
       "    </tr>\n",
       "    <tr>\n",
       "      <th>6</th>\n",
       "      <td>India GrillHilton Garden Inn,Saket, South Delhi</td>\n",
       "      <td>North Indian, Italian</td>\n",
       "      <td>Hilton Garden Inn,Saket, South Delhi</td>\n",
       "      <td>3.9</td>\n",
       "      <td>https://im1.dineout.co.in/images/uploads/resta...</td>\n",
       "    </tr>\n",
       "    <tr>\n",
       "      <th>7</th>\n",
       "      <td>Delhi BarbequeTaurus Sarovar Portico,Mahipalpu...</td>\n",
       "      <td>North Indian</td>\n",
       "      <td>Taurus Sarovar Portico,Mahipalpur, South Delhi</td>\n",
       "      <td>3.7</td>\n",
       "      <td>https://im1.dineout.co.in/images/uploads/resta...</td>\n",
       "    </tr>\n",
       "    <tr>\n",
       "      <th>8</th>\n",
       "      <td>The Monarch - Bar Be Que VillageIndirapuram Ha...</td>\n",
       "      <td>North Indian</td>\n",
       "      <td>Indirapuram Habitat Centre,Indirapuram, Ghaziabad</td>\n",
       "      <td>3.8</td>\n",
       "      <td>https://im1.dineout.co.in/images/uploads/resta...</td>\n",
       "    </tr>\n",
       "    <tr>\n",
       "      <th>9</th>\n",
       "      <td>World CafeVibe by The Lalit Traveller,Sector 3...</td>\n",
       "      <td>North Indian, Italian</td>\n",
       "      <td>Vibe by The Lalit Traveller,Sector 35, Faridabad</td>\n",
       "      <td>4.3</td>\n",
       "      <td>https://im1.dineout.co.in/images/uploads/resta...</td>\n",
       "    </tr>\n",
       "    <tr>\n",
       "      <th>10</th>\n",
       "      <td>Indian Grill RoomSuncity Business Tower,Golf C...</td>\n",
       "      <td>North Indian, Mughlai</td>\n",
       "      <td>Suncity Business Tower,Golf Course Road, Gurgaon</td>\n",
       "      <td>4.3</td>\n",
       "      <td>https://im1.dineout.co.in/images/uploads/resta...</td>\n",
       "    </tr>\n",
       "    <tr>\n",
       "      <th>11</th>\n",
       "      <td>Mad 4 Bar B QueSector 29, Faridabad</td>\n",
       "      <td>North Indian</td>\n",
       "      <td>Sector 29, Faridabad</td>\n",
       "      <td>3.6</td>\n",
       "      <td>https://im1.dineout.co.in/images/uploads/resta...</td>\n",
       "    </tr>\n",
       "    <tr>\n",
       "      <th>12</th>\n",
       "      <td>Barbeque 29NIT, Faridabad</td>\n",
       "      <td>North Indian, Mughlai, Desserts, Beverages</td>\n",
       "      <td>NIT, Faridabad</td>\n",
       "      <td>4.2</td>\n",
       "      <td>https://im1.dineout.co.in/images/uploads/resta...</td>\n",
       "    </tr>\n",
       "    <tr>\n",
       "      <th>13</th>\n",
       "      <td>GlasshouseDoubleTree By Hilton Gurugram Baani ...</td>\n",
       "      <td>European, Italian, Asian, Continental</td>\n",
       "      <td>DoubleTree By Hilton Gurugram Baani Square,Sec...</td>\n",
       "      <td>4</td>\n",
       "      <td>https://im1.dineout.co.in/images/uploads/resta...</td>\n",
       "    </tr>\n",
       "  </tbody>\n",
       "</table>\n",
       "</div>"
      ],
      "text/plain": [
       "                                      Restaurant name  \\\n",
       "1       Castle BarbequeConnaught Place, Central Delhi   \n",
       "2   Jungle Jamboree3CS Mall,Lajpat Nagar - 3, Sout...   \n",
       "3   Castle BarbequePacific Mall,Tagore Garden, Wes...   \n",
       "4   Cafe KnoshThe Leela Ambience Convention Hotel,...   \n",
       "5   The Barbeque CompanyGardens Galleria,Sector 38...   \n",
       "6     India GrillHilton Garden Inn,Saket, South Delhi   \n",
       "7   Delhi BarbequeTaurus Sarovar Portico,Mahipalpu...   \n",
       "8   The Monarch - Bar Be Que VillageIndirapuram Ha...   \n",
       "9   World CafeVibe by The Lalit Traveller,Sector 3...   \n",
       "10  Indian Grill RoomSuncity Business Tower,Golf C...   \n",
       "11                Mad 4 Bar B QueSector 29, Faridabad   \n",
       "12                          Barbeque 29NIT, Faridabad   \n",
       "13  GlasshouseDoubleTree By Hilton Gurugram Baani ...   \n",
       "\n",
       "                                        Cuisine  \\\n",
       "1                         North Indian, Chinese   \n",
       "2                  North Indian, Asian, Italian   \n",
       "3                         Chinese, North Indian   \n",
       "4                          Italian, Continental   \n",
       "5                         North Indian, Chinese   \n",
       "6                         North Indian, Italian   \n",
       "7                                  North Indian   \n",
       "8                                  North Indian   \n",
       "9                         North Indian, Italian   \n",
       "10                        North Indian, Mughlai   \n",
       "11                                 North Indian   \n",
       "12   North Indian, Mughlai, Desserts, Beverages   \n",
       "13        European, Italian, Asian, Continental   \n",
       "\n",
       "                                             Location Rating  \\\n",
       "1                      Connaught Place, Central Delhi    3.5   \n",
       "2              3CS Mall,Lajpat Nagar - 3, South Delhi    3.9   \n",
       "3              Pacific Mall,Tagore Garden, West Delhi    3.9   \n",
       "4   The Leela Ambience Convention Hotel,Shahdara, ...    4.3   \n",
       "5                  Gardens Galleria,Sector 38A, Noida      4   \n",
       "6                Hilton Garden Inn,Saket, South Delhi    3.9   \n",
       "7      Taurus Sarovar Portico,Mahipalpur, South Delhi    3.7   \n",
       "8   Indirapuram Habitat Centre,Indirapuram, Ghaziabad    3.8   \n",
       "9    Vibe by The Lalit Traveller,Sector 35, Faridabad    4.3   \n",
       "10   Suncity Business Tower,Golf Course Road, Gurgaon    4.3   \n",
       "11                               Sector 29, Faridabad    3.6   \n",
       "12                                     NIT, Faridabad    4.2   \n",
       "13  DoubleTree By Hilton Gurugram Baani Square,Sec...      4   \n",
       "\n",
       "                                            Image_URL  \n",
       "1   https://im1.dineout.co.in/images/uploads/resta...  \n",
       "2   https://im1.dineout.co.in/images/uploads/resta...  \n",
       "3   https://im1.dineout.co.in/images/uploads/resta...  \n",
       "4   https://im1.dineout.co.in/images/uploads/resta...  \n",
       "5   https://im1.dineout.co.in/images/uploads/resta...  \n",
       "6   https://im1.dineout.co.in/images/uploads/resta...  \n",
       "7   https://im1.dineout.co.in/images/uploads/resta...  \n",
       "8   https://im1.dineout.co.in/images/uploads/resta...  \n",
       "9   https://im1.dineout.co.in/images/uploads/resta...  \n",
       "10  https://im1.dineout.co.in/images/uploads/resta...  \n",
       "11  https://im1.dineout.co.in/images/uploads/resta...  \n",
       "12  https://im1.dineout.co.in/images/uploads/resta...  \n",
       "13  https://im1.dineout.co.in/images/uploads/resta...  "
      ]
     },
     "execution_count": 129,
     "metadata": {},
     "output_type": "execute_result"
    }
   ],
   "source": [
    "# Making dataframe\n",
    "\n",
    "df13 = pd.DataFrame({'Restaurant name':restaurant_name, 'Cuisine':cuisine,'Location':location,'Rating':rating,'Image_URL':image_url})\n",
    "\n",
    "df13.index=df13.index+1\n",
    "\n",
    "df13"
   ]
  },
  {
   "cell_type": "markdown",
   "id": "a232da69",
   "metadata": {},
   "source": [
    "### <font color='red'>10) Write a python program to scrape the details of top publications from Google Scholar from \n",
    "### https://scholar.google.com/citations?view_op=top_venues&hl=en</font>\n",
    "### <font color='red'>i) Rank</font>\n",
    "### <font color='red'>ii) Publication</font>\n",
    "### <font color='red'>iii) h5-index</font>\n",
    "### <font color='red'>iv) h5-median</font>"
   ]
  },
  {
   "cell_type": "code",
   "execution_count": 130,
   "id": "b2575ab6",
   "metadata": {},
   "outputs": [
    {
     "data": {
      "text/plain": [
       "<Response [200]>"
      ]
     },
     "execution_count": 130,
     "metadata": {},
     "output_type": "execute_result"
    }
   ],
   "source": [
    "page14 = requests.get('https://scholar.google.com/citations?view_op=top_venues&hl=en')\n",
    "page14"
   ]
  },
  {
   "cell_type": "code",
   "execution_count": 131,
   "id": "c0ce4a9a",
   "metadata": {},
   "outputs": [],
   "source": [
    "soup14 = BeautifulSoup(page14.content)"
   ]
  },
  {
   "cell_type": "markdown",
   "id": "a5895a52",
   "metadata": {},
   "source": [
    "#### <font color='red'>i) Rank</font>"
   ]
  },
  {
   "cell_type": "code",
   "execution_count": 132,
   "id": "78dda101",
   "metadata": {},
   "outputs": [],
   "source": [
    "# Rank\n",
    "\n",
    "rank = []\n",
    "\n",
    "for i in soup14.find_all('td', class_=\"gsc_mvt_p\"):\n",
    "    rank.append(i.text)\n",
    "    "
   ]
  },
  {
   "cell_type": "markdown",
   "id": "ca480ed0",
   "metadata": {},
   "source": [
    "#### <font color='red'>ii) Publication</font>"
   ]
  },
  {
   "cell_type": "code",
   "execution_count": 133,
   "id": "b6468d6e",
   "metadata": {},
   "outputs": [],
   "source": [
    "# Publication\n",
    "\n",
    "publication = []\n",
    "\n",
    "for i in soup14.find_all('td',class_=\"gsc_mvt_t\"):\n",
    "    publication.append(i.text)\n",
    "    "
   ]
  },
  {
   "cell_type": "markdown",
   "id": "ee001b5a",
   "metadata": {},
   "source": [
    "#### <font color='red'>iii) h5-index</font>"
   ]
  },
  {
   "cell_type": "code",
   "execution_count": 134,
   "id": "f1f462fb",
   "metadata": {},
   "outputs": [],
   "source": [
    "# h5-index\n",
    "\n",
    "h5_index = [] \n",
    "\n",
    "for i in soup14.find_all('td',class_=\"gsc_mvt_n\"):\n",
    "    h5_index .append(i.text)\n",
    "    \n",
    "h5_index=h5_index[::2]\n"
   ]
  },
  {
   "cell_type": "markdown",
   "id": "8128f733",
   "metadata": {},
   "source": [
    "#### <font color='red'>iv) h5-median</font>"
   ]
  },
  {
   "cell_type": "code",
   "execution_count": 135,
   "id": "47affb0c",
   "metadata": {},
   "outputs": [],
   "source": [
    "# h5-median\n",
    "\n",
    "h5_median = []\n",
    "\n",
    "for i in soup14.find_all('span', class_=\"gs_ibl gsc_mp_anchor\"):\n",
    "    h5_median.append(i.text)\n",
    "    "
   ]
  },
  {
   "cell_type": "code",
   "execution_count": 136,
   "id": "e05d59a2",
   "metadata": {},
   "outputs": [
    {
     "name": "stdout",
     "output_type": "stream",
     "text": [
      "100 100 100 100\n"
     ]
    }
   ],
   "source": [
    "print(len(rank), len(publication), len(h5_index), len(h5_median))"
   ]
  },
  {
   "cell_type": "code",
   "execution_count": 137,
   "id": "99462dba",
   "metadata": {},
   "outputs": [
    {
     "data": {
      "text/html": [
       "<div>\n",
       "<style scoped>\n",
       "    .dataframe tbody tr th:only-of-type {\n",
       "        vertical-align: middle;\n",
       "    }\n",
       "\n",
       "    .dataframe tbody tr th {\n",
       "        vertical-align: top;\n",
       "    }\n",
       "\n",
       "    .dataframe thead th {\n",
       "        text-align: right;\n",
       "    }\n",
       "</style>\n",
       "<table border=\"1\" class=\"dataframe\">\n",
       "  <thead>\n",
       "    <tr style=\"text-align: right;\">\n",
       "      <th></th>\n",
       "      <th>Rank</th>\n",
       "      <th>Publication</th>\n",
       "      <th>h5-index</th>\n",
       "      <th>h5-median</th>\n",
       "    </tr>\n",
       "  </thead>\n",
       "  <tbody>\n",
       "    <tr>\n",
       "      <th>1</th>\n",
       "      <td>1.</td>\n",
       "      <td>Nature</td>\n",
       "      <td>444</td>\n",
       "      <td>667</td>\n",
       "    </tr>\n",
       "    <tr>\n",
       "      <th>2</th>\n",
       "      <td>2.</td>\n",
       "      <td>The New England Journal of Medicine</td>\n",
       "      <td>432</td>\n",
       "      <td>780</td>\n",
       "    </tr>\n",
       "    <tr>\n",
       "      <th>3</th>\n",
       "      <td>3.</td>\n",
       "      <td>Science</td>\n",
       "      <td>401</td>\n",
       "      <td>614</td>\n",
       "    </tr>\n",
       "    <tr>\n",
       "      <th>4</th>\n",
       "      <td>4.</td>\n",
       "      <td>IEEE/CVF Conference on Computer Vision and Pat...</td>\n",
       "      <td>389</td>\n",
       "      <td>627</td>\n",
       "    </tr>\n",
       "    <tr>\n",
       "      <th>5</th>\n",
       "      <td>5.</td>\n",
       "      <td>The Lancet</td>\n",
       "      <td>354</td>\n",
       "      <td>635</td>\n",
       "    </tr>\n",
       "    <tr>\n",
       "      <th>...</th>\n",
       "      <td>...</td>\n",
       "      <td>...</td>\n",
       "      <td>...</td>\n",
       "      <td>...</td>\n",
       "    </tr>\n",
       "    <tr>\n",
       "      <th>96</th>\n",
       "      <td>96.</td>\n",
       "      <td>Journal of Business Research</td>\n",
       "      <td>145</td>\n",
       "      <td>233</td>\n",
       "    </tr>\n",
       "    <tr>\n",
       "      <th>97</th>\n",
       "      <td>97.</td>\n",
       "      <td>Molecular Cancer</td>\n",
       "      <td>145</td>\n",
       "      <td>209</td>\n",
       "    </tr>\n",
       "    <tr>\n",
       "      <th>98</th>\n",
       "      <td>98.</td>\n",
       "      <td>Sensors</td>\n",
       "      <td>145</td>\n",
       "      <td>201</td>\n",
       "    </tr>\n",
       "    <tr>\n",
       "      <th>99</th>\n",
       "      <td>99.</td>\n",
       "      <td>Nature Climate Change</td>\n",
       "      <td>144</td>\n",
       "      <td>228</td>\n",
       "    </tr>\n",
       "    <tr>\n",
       "      <th>100</th>\n",
       "      <td>100.</td>\n",
       "      <td>IEEE Internet of Things Journal</td>\n",
       "      <td>144</td>\n",
       "      <td>212</td>\n",
       "    </tr>\n",
       "  </tbody>\n",
       "</table>\n",
       "<p>100 rows × 4 columns</p>\n",
       "</div>"
      ],
      "text/plain": [
       "     Rank                                        Publication h5-index  \\\n",
       "1      1.                                             Nature      444   \n",
       "2      2.                The New England Journal of Medicine      432   \n",
       "3      3.                                            Science      401   \n",
       "4      4.  IEEE/CVF Conference on Computer Vision and Pat...      389   \n",
       "5      5.                                         The Lancet      354   \n",
       "..    ...                                                ...      ...   \n",
       "96    96.                       Journal of Business Research      145   \n",
       "97    97.                                   Molecular Cancer      145   \n",
       "98    98.                                            Sensors      145   \n",
       "99    99.                              Nature Climate Change      144   \n",
       "100  100.                    IEEE Internet of Things Journal      144   \n",
       "\n",
       "    h5-median  \n",
       "1         667  \n",
       "2         780  \n",
       "3         614  \n",
       "4         627  \n",
       "5         635  \n",
       "..        ...  \n",
       "96        233  \n",
       "97        209  \n",
       "98        201  \n",
       "99        228  \n",
       "100       212  \n",
       "\n",
       "[100 rows x 4 columns]"
      ]
     },
     "execution_count": 137,
     "metadata": {},
     "output_type": "execute_result"
    }
   ],
   "source": [
    "# Making DataFrame\n",
    "\n",
    "df14 = pd.DataFrame({'Rank':rank, 'Publication':publication, 'h5-index':h5_index, 'h5-median':h5_median})\n",
    "\n",
    "df14.index=df14.index+1\n",
    "\n",
    "df14"
   ]
  }
 ],
 "metadata": {
  "kernelspec": {
   "display_name": "Python 3 (ipykernel)",
   "language": "python",
   "name": "python3"
  },
  "language_info": {
   "codemirror_mode": {
    "name": "ipython",
    "version": 3
   },
   "file_extension": ".py",
   "mimetype": "text/x-python",
   "name": "python",
   "nbconvert_exporter": "python",
   "pygments_lexer": "ipython3",
   "version": "3.9.7"
  }
 },
 "nbformat": 4,
 "nbformat_minor": 5
}
